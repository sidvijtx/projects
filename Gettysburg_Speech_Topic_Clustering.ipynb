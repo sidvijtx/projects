{
  "nbformat": 4,
  "nbformat_minor": 0,
  "metadata": {
    "colab": {
      "provenance": []
    },
    "kernelspec": {
      "name": "python3",
      "display_name": "Python 3"
    },
    "language_info": {
      "name": "python"
    }
  },
  "cells": [
    {
      "cell_type": "code",
      "execution_count": null,
      "metadata": {
        "colab": {
          "base_uri": "https://localhost:8080/",
          "height": 1000
        },
        "id": "5QHSAbDPbqQb",
        "outputId": "51b2c968-9679-4fdd-ba9d-94f35d87be7d"
      },
      "outputs": [
        {
          "output_type": "stream",
          "name": "stdout",
          "text": [
            "Get:1 http://security.ubuntu.com/ubuntu jammy-security InRelease [129 kB]\n",
            "Get:2 https://cloud.r-project.org/bin/linux/ubuntu jammy-cran40/ InRelease [3,632 B]\n",
            "Hit:3 http://archive.ubuntu.com/ubuntu jammy InRelease\n",
            "Hit:4 https://developer.download.nvidia.com/compute/cuda/repos/ubuntu2204/x86_64  InRelease\n",
            "Get:5 https://r2u.stat.illinois.edu/ubuntu jammy InRelease [6,555 B]\n",
            "Get:6 http://archive.ubuntu.com/ubuntu jammy-updates InRelease [128 kB]\n",
            "Hit:7 https://ppa.launchpadcontent.net/deadsnakes/ppa/ubuntu jammy InRelease\n",
            "Hit:8 https://ppa.launchpadcontent.net/graphics-drivers/ppa/ubuntu jammy InRelease\n",
            "Get:9 http://security.ubuntu.com/ubuntu jammy-security/main amd64 Packages [2,692 kB]\n",
            "Hit:10 https://ppa.launchpadcontent.net/ubuntugis/ppa/ubuntu jammy InRelease\n",
            "Get:11 http://archive.ubuntu.com/ubuntu jammy-backports InRelease [127 kB]\n",
            "Get:12 http://security.ubuntu.com/ubuntu jammy-security/universe amd64 Packages [1,237 kB]\n",
            "Get:13 https://r2u.stat.illinois.edu/ubuntu jammy/main all Packages [8,762 kB]\n",
            "Get:14 https://r2u.stat.illinois.edu/ubuntu jammy/main amd64 Packages [2,677 kB]\n",
            "Get:15 http://archive.ubuntu.com/ubuntu jammy-updates/main amd64 Packages [3,000 kB]\n",
            "Get:16 http://archive.ubuntu.com/ubuntu jammy-updates/universe amd64 Packages [1,535 kB]\n",
            "Fetched 20.3 MB in 6s (3,253 kB/s)\n",
            "Reading package lists... Done\n",
            "W: Skipping acquire of configured file 'main/source/Sources' as repository 'https://r2u.stat.illinois.edu/ubuntu jammy InRelease' does not seem to provide it (sources.list entry misspelt?)\n",
            "Reading package lists... Done\n",
            "Building dependency tree... Done\n",
            "Reading state information... Done\n",
            "build-essential is already the newest version (12.9ubuntu3).\n",
            "python3-dev is already the newest version (3.10.6-1~22.04.1).\n",
            "python3-dev set to manually installed.\n",
            "The following packages were automatically installed and are no longer required:\n",
            "  libbz2-dev libpkgconf3 libreadline-dev\n",
            "Use 'sudo apt autoremove' to remove them.\n",
            "The following additional packages will be installed:\n",
            "  libpoppler-cpp0v5\n",
            "The following packages will be REMOVED:\n",
            "  pkgconf r-base-dev\n",
            "The following NEW packages will be installed:\n",
            "  libpoppler-cpp-dev libpoppler-cpp0v5 pkg-config\n",
            "0 upgraded, 3 newly installed, 2 to remove and 30 not upgraded.\n",
            "Need to get 98.7 kB of archives.\n",
            "After this operation, 221 kB of additional disk space will be used.\n",
            "Get:1 http://archive.ubuntu.com/ubuntu jammy/main amd64 pkg-config amd64 0.29.2-1ubuntu3 [48.2 kB]\n",
            "Get:2 http://archive.ubuntu.com/ubuntu jammy-updates/main amd64 libpoppler-cpp0v5 amd64 22.02.0-2ubuntu0.6 [38.7 kB]\n",
            "Get:3 http://archive.ubuntu.com/ubuntu jammy-updates/main amd64 libpoppler-cpp-dev amd64 22.02.0-2ubuntu0.6 [11.7 kB]\n",
            "Fetched 98.7 kB in 1s (168 kB/s)\n",
            "debconf: unable to initialize frontend: Dialog\n",
            "debconf: (No usable dialog-like program is installed, so the dialog based frontend cannot be used. at /usr/share/perl5/Debconf/FrontEnd/Dialog.pm line 78, <> line 3.)\n",
            "debconf: falling back to frontend: Readline\n",
            "debconf: unable to initialize frontend: Readline\n",
            "debconf: (This frontend requires a controlling tty.)\n",
            "debconf: falling back to frontend: Teletype\n",
            "dpkg-preconfigure: unable to re-open stdin: \n",
            "(Reading database ... 126209 files and directories currently installed.)\n",
            "Removing r-base-dev (4.4.3-1.2204.0) ...\n",
            "\u001b[1mdpkg:\u001b[0m pkgconf: dependency problems, but removing anyway as you requested:\n",
            " libsndfile1-dev:amd64 depends on pkg-config; however:\n",
            "  Package pkg-config is not installed.\n",
            "  Package pkgconf which provides pkg-config is to be removed.\n",
            " libopencv-dev depends on pkg-config; however:\n",
            "  Package pkg-config is not installed.\n",
            "  Package pkgconf which provides pkg-config is to be removed.\n",
            " libmkl-dev:amd64 depends on pkg-config; however:\n",
            "  Package pkg-config is not installed.\n",
            "  Package pkgconf which provides pkg-config is to be removed.\n",
            " libjack-dev depends on pkg-config; however:\n",
            "  Package pkg-config is not installed.\n",
            "  Package pkgconf which provides pkg-config is to be removed.\n",
            " libgphoto2-dev:amd64 depends on pkg-config; however:\n",
            "  Package pkg-config is not installed.\n",
            "  Package pkgconf which provides pkg-config is to be removed.\n",
            " libglib2.0-dev:amd64 depends on pkg-config; however:\n",
            "  Package pkg-config is not installed.\n",
            "  Package pkgconf which provides pkg-config is to be removed.\n",
            " libfontconfig-dev:amd64 depends on pkg-config; however:\n",
            "  Package pkg-config is not installed.\n",
            "  Package pkgconf which provides pkg-config is to be removed.\n",
            "\n",
            "Removing pkgconf (1.8.0-1) ...\n",
            "Removing 'diversion of /usr/bin/pkg-config to /usr/bin/pkg-config.real by pkgconf'\n",
            "Removing 'diversion of /usr/share/aclocal/pkg.m4 to /usr/share/aclocal/pkg.real.m4 by pkgconf'\n",
            "Removing 'diversion of /usr/share/man/man1/pkg-config.1.gz to /usr/share/man/man1/pkg-config.real.1.gz by pkgconf'\n",
            "Removing 'diversion of /usr/share/pkg-config-crosswrapper to /usr/share/pkg-config-crosswrapper.real by pkgconf'\n",
            "Selecting previously unselected package pkg-config.\n",
            "(Reading database ... 126185 files and directories currently installed.)\n",
            "Preparing to unpack .../pkg-config_0.29.2-1ubuntu3_amd64.deb ...\n",
            "Unpacking pkg-config (0.29.2-1ubuntu3) ...\n",
            "Selecting previously unselected package libpoppler-cpp0v5:amd64.\n",
            "Preparing to unpack .../libpoppler-cpp0v5_22.02.0-2ubuntu0.6_amd64.deb ...\n",
            "Unpacking libpoppler-cpp0v5:amd64 (22.02.0-2ubuntu0.6) ...\n",
            "Selecting previously unselected package libpoppler-cpp-dev:amd64.\n",
            "Preparing to unpack .../libpoppler-cpp-dev_22.02.0-2ubuntu0.6_amd64.deb ...\n",
            "Unpacking libpoppler-cpp-dev:amd64 (22.02.0-2ubuntu0.6) ...\n",
            "Setting up pkg-config (0.29.2-1ubuntu3) ...\n",
            "Setting up libpoppler-cpp0v5:amd64 (22.02.0-2ubuntu0.6) ...\n",
            "Setting up libpoppler-cpp-dev:amd64 (22.02.0-2ubuntu0.6) ...\n",
            "Processing triggers for man-db (2.10.2-1) ...\n",
            "Processing triggers for libc-bin (2.35-0ubuntu3.8) ...\n",
            "/sbin/ldconfig.real: /usr/local/lib/libtcm_debug.so.1 is not a symbolic link\n",
            "\n",
            "/sbin/ldconfig.real: /usr/local/lib/libtbb.so.12 is not a symbolic link\n",
            "\n",
            "/sbin/ldconfig.real: /usr/local/lib/libur_adapter_opencl.so.0 is not a symbolic link\n",
            "\n",
            "/sbin/ldconfig.real: /usr/local/lib/libtbbbind_2_5.so.3 is not a symbolic link\n",
            "\n",
            "/sbin/ldconfig.real: /usr/local/lib/libtbbbind_2_0.so.3 is not a symbolic link\n",
            "\n",
            "/sbin/ldconfig.real: /usr/local/lib/libumf.so.0 is not a symbolic link\n",
            "\n",
            "/sbin/ldconfig.real: /usr/local/lib/libtbbbind.so.3 is not a symbolic link\n",
            "\n",
            "/sbin/ldconfig.real: /usr/local/lib/libur_loader.so.0 is not a symbolic link\n",
            "\n",
            "/sbin/ldconfig.real: /usr/local/lib/libtcm.so.1 is not a symbolic link\n",
            "\n",
            "/sbin/ldconfig.real: /usr/local/lib/libtbbmalloc_proxy.so.2 is not a symbolic link\n",
            "\n",
            "/sbin/ldconfig.real: /usr/local/lib/libtbbmalloc.so.2 is not a symbolic link\n",
            "\n",
            "/sbin/ldconfig.real: /usr/local/lib/libhwloc.so.15 is not a symbolic link\n",
            "\n",
            "/sbin/ldconfig.real: /usr/local/lib/libur_adapter_level_zero.so.0 is not a symbolic link\n",
            "\n",
            "Collecting pdftotext\n",
            "  Downloading pdftotext-3.0.0.tar.gz (113 kB)\n",
            "\u001b[2K     \u001b[90m━━━━━━━━━━━━━━━━━━━━━━━━━━━━━━━━━━━━━━━━\u001b[0m \u001b[32m113.6/113.6 kB\u001b[0m \u001b[31m2.9 MB/s\u001b[0m eta \u001b[36m0:00:00\u001b[0m\n",
            "\u001b[?25h  Installing build dependencies ... \u001b[?25l\u001b[?25hdone\n",
            "  Getting requirements to build wheel ... \u001b[?25l\u001b[?25hdone\n",
            "  Preparing metadata (pyproject.toml) ... \u001b[?25l\u001b[?25hdone\n",
            "Building wheels for collected packages: pdftotext\n",
            "  Building wheel for pdftotext (pyproject.toml) ... \u001b[?25l\u001b[?25hdone\n",
            "  Created wheel for pdftotext: filename=pdftotext-3.0.0-cp311-cp311-linux_x86_64.whl size=61778 sha256=5dd018c13469863d5a59d56ac5db39dd6b992cc30f2407cb520ef531a0bd9ef4\n",
            "  Stored in directory: /root/.cache/pip/wheels/f8/9a/e8/8e4ad1f00ef868e5b2c6f4b1a4664a52796e73967ec5aecd24\n",
            "Successfully built pdftotext\n",
            "Installing collected packages: pdftotext\n",
            "Successfully installed pdftotext-3.0.0\n"
          ]
        },
        {
          "output_type": "error",
          "ename": "MessageError",
          "evalue": "Error: credential propagation was unsuccessful",
          "traceback": [
            "\u001b[0;31m---------------------------------------------------------------------------\u001b[0m",
            "\u001b[0;31mMessageError\u001b[0m                              Traceback (most recent call last)",
            "\u001b[0;32m<ipython-input-1-266b38c671b0>\u001b[0m in \u001b[0;36m<cell line: 0>\u001b[0;34m()\u001b[0m\n\u001b[1;32m      7\u001b[0m \u001b[0;34m\u001b[0m\u001b[0m\n\u001b[1;32m      8\u001b[0m \u001b[0;32mfrom\u001b[0m \u001b[0mgoogle\u001b[0m\u001b[0;34m.\u001b[0m\u001b[0mcolab\u001b[0m \u001b[0;32mimport\u001b[0m \u001b[0mdrive\u001b[0m\u001b[0;34m\u001b[0m\u001b[0;34m\u001b[0m\u001b[0m\n\u001b[0;32m----> 9\u001b[0;31m \u001b[0mdrive\u001b[0m\u001b[0;34m.\u001b[0m\u001b[0mmount\u001b[0m\u001b[0;34m(\u001b[0m\u001b[0;34m'/content/drive'\u001b[0m\u001b[0;34m)\u001b[0m\u001b[0;34m\u001b[0m\u001b[0;34m\u001b[0m\u001b[0m\n\u001b[0m",
            "\u001b[0;32m/usr/local/lib/python3.11/dist-packages/google/colab/drive.py\u001b[0m in \u001b[0;36mmount\u001b[0;34m(mountpoint, force_remount, timeout_ms, readonly)\u001b[0m\n\u001b[1;32m     98\u001b[0m \u001b[0;32mdef\u001b[0m \u001b[0mmount\u001b[0m\u001b[0;34m(\u001b[0m\u001b[0mmountpoint\u001b[0m\u001b[0;34m,\u001b[0m \u001b[0mforce_remount\u001b[0m\u001b[0;34m=\u001b[0m\u001b[0;32mFalse\u001b[0m\u001b[0;34m,\u001b[0m \u001b[0mtimeout_ms\u001b[0m\u001b[0;34m=\u001b[0m\u001b[0;36m120000\u001b[0m\u001b[0;34m,\u001b[0m \u001b[0mreadonly\u001b[0m\u001b[0;34m=\u001b[0m\u001b[0;32mFalse\u001b[0m\u001b[0;34m)\u001b[0m\u001b[0;34m:\u001b[0m\u001b[0;34m\u001b[0m\u001b[0;34m\u001b[0m\u001b[0m\n\u001b[1;32m     99\u001b[0m   \u001b[0;34m\"\"\"Mount your Google Drive at the specified mountpoint path.\"\"\"\u001b[0m\u001b[0;34m\u001b[0m\u001b[0;34m\u001b[0m\u001b[0m\n\u001b[0;32m--> 100\u001b[0;31m   return _mount(\n\u001b[0m\u001b[1;32m    101\u001b[0m       \u001b[0mmountpoint\u001b[0m\u001b[0;34m,\u001b[0m\u001b[0;34m\u001b[0m\u001b[0;34m\u001b[0m\u001b[0m\n\u001b[1;32m    102\u001b[0m       \u001b[0mforce_remount\u001b[0m\u001b[0;34m=\u001b[0m\u001b[0mforce_remount\u001b[0m\u001b[0;34m,\u001b[0m\u001b[0;34m\u001b[0m\u001b[0;34m\u001b[0m\u001b[0m\n",
            "\u001b[0;32m/usr/local/lib/python3.11/dist-packages/google/colab/drive.py\u001b[0m in \u001b[0;36m_mount\u001b[0;34m(mountpoint, force_remount, timeout_ms, ephemeral, readonly)\u001b[0m\n\u001b[1;32m    135\u001b[0m   )\n\u001b[1;32m    136\u001b[0m   \u001b[0;32mif\u001b[0m \u001b[0mephemeral\u001b[0m\u001b[0;34m:\u001b[0m\u001b[0;34m\u001b[0m\u001b[0;34m\u001b[0m\u001b[0m\n\u001b[0;32m--> 137\u001b[0;31m     _message.blocking_request(\n\u001b[0m\u001b[1;32m    138\u001b[0m         \u001b[0;34m'request_auth'\u001b[0m\u001b[0;34m,\u001b[0m\u001b[0;34m\u001b[0m\u001b[0;34m\u001b[0m\u001b[0m\n\u001b[1;32m    139\u001b[0m         \u001b[0mrequest\u001b[0m\u001b[0;34m=\u001b[0m\u001b[0;34m{\u001b[0m\u001b[0;34m'authType'\u001b[0m\u001b[0;34m:\u001b[0m \u001b[0;34m'dfs_ephemeral'\u001b[0m\u001b[0;34m}\u001b[0m\u001b[0;34m,\u001b[0m\u001b[0;34m\u001b[0m\u001b[0;34m\u001b[0m\u001b[0m\n",
            "\u001b[0;32m/usr/local/lib/python3.11/dist-packages/google/colab/_message.py\u001b[0m in \u001b[0;36mblocking_request\u001b[0;34m(request_type, request, timeout_sec, parent)\u001b[0m\n\u001b[1;32m    174\u001b[0m       \u001b[0mrequest_type\u001b[0m\u001b[0;34m,\u001b[0m \u001b[0mrequest\u001b[0m\u001b[0;34m,\u001b[0m \u001b[0mparent\u001b[0m\u001b[0;34m=\u001b[0m\u001b[0mparent\u001b[0m\u001b[0;34m,\u001b[0m \u001b[0mexpect_reply\u001b[0m\u001b[0;34m=\u001b[0m\u001b[0;32mTrue\u001b[0m\u001b[0;34m\u001b[0m\u001b[0;34m\u001b[0m\u001b[0m\n\u001b[1;32m    175\u001b[0m   )\n\u001b[0;32m--> 176\u001b[0;31m   \u001b[0;32mreturn\u001b[0m \u001b[0mread_reply_from_input\u001b[0m\u001b[0;34m(\u001b[0m\u001b[0mrequest_id\u001b[0m\u001b[0;34m,\u001b[0m \u001b[0mtimeout_sec\u001b[0m\u001b[0;34m)\u001b[0m\u001b[0;34m\u001b[0m\u001b[0;34m\u001b[0m\u001b[0m\n\u001b[0m",
            "\u001b[0;32m/usr/local/lib/python3.11/dist-packages/google/colab/_message.py\u001b[0m in \u001b[0;36mread_reply_from_input\u001b[0;34m(message_id, timeout_sec)\u001b[0m\n\u001b[1;32m    101\u001b[0m     ):\n\u001b[1;32m    102\u001b[0m       \u001b[0;32mif\u001b[0m \u001b[0;34m'error'\u001b[0m \u001b[0;32min\u001b[0m \u001b[0mreply\u001b[0m\u001b[0;34m:\u001b[0m\u001b[0;34m\u001b[0m\u001b[0;34m\u001b[0m\u001b[0m\n\u001b[0;32m--> 103\u001b[0;31m         \u001b[0;32mraise\u001b[0m \u001b[0mMessageError\u001b[0m\u001b[0;34m(\u001b[0m\u001b[0mreply\u001b[0m\u001b[0;34m[\u001b[0m\u001b[0;34m'error'\u001b[0m\u001b[0;34m]\u001b[0m\u001b[0;34m)\u001b[0m\u001b[0;34m\u001b[0m\u001b[0;34m\u001b[0m\u001b[0m\n\u001b[0m\u001b[1;32m    104\u001b[0m       \u001b[0;32mreturn\u001b[0m \u001b[0mreply\u001b[0m\u001b[0;34m.\u001b[0m\u001b[0mget\u001b[0m\u001b[0;34m(\u001b[0m\u001b[0;34m'data'\u001b[0m\u001b[0;34m,\u001b[0m \u001b[0;32mNone\u001b[0m\u001b[0;34m)\u001b[0m\u001b[0;34m\u001b[0m\u001b[0;34m\u001b[0m\u001b[0m\n\u001b[1;32m    105\u001b[0m \u001b[0;34m\u001b[0m\u001b[0m\n",
            "\u001b[0;31mMessageError\u001b[0m: Error: credential propagation was unsuccessful"
          ]
        }
      ],
      "source": [
        "!sudo apt-get update\n",
        "!sudo apt install build-essential libpoppler-cpp-dev pkg-config python3-dev\n",
        "!pip install pdftotext\n",
        "import pdftotext\n",
        "\n",
        "from google.colab import files\n",
        "\n",
        "from google.colab import drive\n",
        "drive.mount('/content/drive')"
      ]
    },
    {
      "cell_type": "code",
      "source": [
        "\n",
        "file_path = '/content/drive/My Drive/Abraham_Lincoln.pdf'"
      ],
      "metadata": {
        "id": "IeEr-oubcwKD"
      },
      "execution_count": null,
      "outputs": []
    },
    {
      "cell_type": "code",
      "source": [
        "\n",
        "with open(file_path, \"rb\") as f:\n",
        "    pdf = pdftotext.PDF(f)\n",
        "\n",
        "\n",
        "txt = \"\\n\\n\".join(pdf)\n",
        "\n",
        "\n",
        "print(txt)"
      ],
      "metadata": {
        "colab": {
          "base_uri": "https://localhost:8080/"
        },
        "id": "t17jLbt5c8iY",
        "outputId": "619f9828-7ea5-4edd-f299-cf52be57bc00"
      },
      "execution_count": null,
      "outputs": [
        {
          "output_type": "stream",
          "name": "stdout",
          "text": [
            "Abraham Lincoln: The Legacy of a Great Leader\n",
            "Abraham Lincoln, the 16th President of the United States, remains one of the most revered ﬁgures in\n",
            "American history. Born on February 12, 1809, in a log cabin in Hardin County, Kentucky, Lincoln rose\n",
            "from humble beginnings to become a towering ﬁgure whose leadership during one of the nation's\n",
            "darkest periods, the Civil War, solidiﬁed his place as one of America's greatest presidents. His\n",
            "enduring legacy as the \"Great Emancipator\" and his unwavering commitment to preserving the Union\n",
            "continue to inspire generations around the world.\n",
            "Early Life and Career\n",
            "Lincoln's early life was marked by hardship and adversity. Growing up in a frontier environment, he\n",
            "experienced poverty, the loss of his mother at a young age, and limited access to formal education.\n",
            "Despite these challenges, Lincoln possessed an insatiable thirst for knowledge and selfimprovement, educating himself through voracious reading and a keen interest in the law.\n",
            "After working various odd jobs and serving in the Illinois state legislature, Lincoln embarked on a\n",
            "career in law, earning a reputation as a skilled attorney renowned for his integrity and eloquence. His\n",
            "involvement in politics grew steadily, and in 1860, he secured the Republican Party's nomination for\n",
            "president, a testament to his rising prominence within the party and his growing national appeal.\n",
            "Presidency and the Civil War\n",
            "Lincoln assumed the presidency at a time of deep division and turmoil in the United States. The issue\n",
            "of slavery had long been a source of contention between the North and the South, threatening to tear\n",
            "the nation apart. Upon taking oYice, Lincoln faced the daunting task of preserving the Union while\n",
            "navigating the complex moral and political landscape of the slavery question.\n",
            "The outbreak of the Civil War in 1861 tested Lincoln's leadership like never before. Faced with the\n",
            "unprecedented challenge of leading a nation torn asunder by conﬂict, Lincoln demonstrated\n",
            "remarkable resolve, perseverance, and strategic acumen. He skillfully balanced the imperatives of\n",
            "military necessity with his commitment to upholding the principles of liberty and democracy.\n",
            "Throughout the war, Lincoln faced intense pressure from both within his own administration and from\n",
            "the broader public. Critics assailed him for his handling of the conﬂict, while others questioned his\n",
            "leadership abilities. Yet, Lincoln remained steadfast in his conviction that the Union must be\n",
            "preserved at all costs, declaring in his famous Gettysburg Address that the nation was \"dedicated to\n",
            "the proposition that all men are created equal.\"\n",
            "Emancipation Proclamation and the Fight for Freedom\n",
            "One of Lincoln's most enduring legacies is his role in the abolition of slavery. In 1863, he issued the\n",
            "Emancipation Proclamation, a watershed moment in American history that declared all slaves in\n",
            "Confederate-held territory to be \"forever free.\" While the proclamation did not immediately abolish\n",
            "slavery in the Union or border states, it was a crucial step toward the eventual eradication of this\n",
            "abhorrent institution.\n",
            "\n",
            "\f\n",
            "\n",
            "Lincoln's commitment to emancipation was not merely a strategic wartime measure but reﬂected his\n",
            "deeply held moral convictions. He viewed slavery as a moral evil that was fundamentally\n",
            "incompatible with the principles of liberty and equality enshrined in the Declaration of Independence.\n",
            "By issuing the Emancipation Proclamation, Lincoln struck a decisive blow against the institution of\n",
            "slavery and laid the groundwork for its eventual abolition through the ratiﬁcation of the Thirteenth\n",
            "Amendment in 1865.\n",
            "Legacy and Impact\n",
            "Abraham Lincoln's presidency left an indelible mark on American history and society. His leadership\n",
            "during the Civil War preserved the Union and laid the foundation for the nation's reuniﬁcation and\n",
            "reconciliation in the aftermath of the conﬂict. His steadfast commitment to the principles of liberty,\n",
            "equality, and democracy inspired generations of Americans and continues to resonate in the ongoing\n",
            "struggle for justice and equality.\n",
            "Lincoln's legacy extends far beyond his presidency. His eloquent speeches, including the Gettysburg\n",
            "Address and his second inaugural address, remain iconic expressions of American values and ideals.\n",
            "His leadership during a time of national crisis serves as a beacon of hope and resilience,\n",
            "demonstrating the transformative power of visionary leadership in times of adversity.\n",
            "In conclusion, Abraham Lincoln's life and presidency embody the enduring principles of courage,\n",
            "integrity, and perseverance. From his humble origins on the frontier to his pivotal role in shaping the\n",
            "course of American history, Lincoln's legacy as the \"Great Emancipator\" and champion of democracy\n",
            "endures as a testament to the power of leadership to transcend adversity and inspire positive change.\n",
            "As we reﬂect on his life and legacy, we are reminded of the profound impact that one individual can\n",
            "have in shaping the destiny of a nation and the course of human history.\n",
            "\n",
            "\f\n"
          ]
        }
      ]
    },
    {
      "cell_type": "code",
      "source": [
        "import nltk\n",
        "nltk.download('punkt_tab')\n",
        "from nltk.tokenize import sent_tokenize\n",
        "from nltk.tokenize import word_tokenize\n",
        "sentences = sent_tokenize(txt)\n",
        "print(sentences)"
      ],
      "metadata": {
        "colab": {
          "base_uri": "https://localhost:8080/"
        },
        "id": "ULhF8O8ldpdl",
        "outputId": "f06b25cc-72db-46ac-d383-9f889c29ceb7"
      },
      "execution_count": null,
      "outputs": [
        {
          "output_type": "stream",
          "name": "stdout",
          "text": [
            "['Abraham Lincoln: The Legacy of a Great Leader\\nAbraham Lincoln, the 16th President of the United States, remains one of the most revered ﬁgures in\\nAmerican history.', \"Born on February 12, 1809, in a log cabin in Hardin County, Kentucky, Lincoln rose\\nfrom humble beginnings to become a towering ﬁgure whose leadership during one of the nation's\\ndarkest periods, the Civil War, solidiﬁed his place as one of America's greatest presidents.\", 'His\\nenduring legacy as the \"Great Emancipator\" and his unwavering commitment to preserving the Union\\ncontinue to inspire generations around the world.', \"Early Life and Career\\nLincoln's early life was marked by hardship and adversity.\", 'Growing up in a frontier environment, he\\nexperienced poverty, the loss of his mother at a young age, and limited access to formal education.', 'Despite these challenges, Lincoln possessed an insatiable thirst for knowledge and selfimprovement, educating himself through voracious reading and a keen interest in the law.', 'After working various odd jobs and serving in the Illinois state legislature, Lincoln embarked on a\\ncareer in law, earning a reputation as a skilled attorney renowned for his integrity and eloquence.', \"His\\ninvolvement in politics grew steadily, and in 1860, he secured the Republican Party's nomination for\\npresident, a testament to his rising prominence within the party and his growing national appeal.\", 'Presidency and the Civil War\\nLincoln assumed the presidency at a time of deep division and turmoil in the United States.', 'The issue\\nof slavery had long been a source of contention between the North and the South, threatening to tear\\nthe nation apart.', 'Upon taking oYice, Lincoln faced the daunting task of preserving the Union while\\nnavigating the complex moral and political landscape of the slavery question.', \"The outbreak of the Civil War in 1861 tested Lincoln's leadership like never before.\", 'Faced with the\\nunprecedented challenge of leading a nation torn asunder by conﬂict, Lincoln demonstrated\\nremarkable resolve, perseverance, and strategic acumen.', 'He skillfully balanced the imperatives of\\nmilitary necessity with his commitment to upholding the principles of liberty and democracy.', 'Throughout the war, Lincoln faced intense pressure from both within his own administration and from\\nthe broader public.', 'Critics assailed him for his handling of the conﬂict, while others questioned his\\nleadership abilities.', 'Yet, Lincoln remained steadfast in his conviction that the Union must be\\npreserved at all costs, declaring in his famous Gettysburg Address that the nation was \"dedicated to\\nthe proposition that all men are created equal.\"', \"Emancipation Proclamation and the Fight for Freedom\\nOne of Lincoln's most enduring legacies is his role in the abolition of slavery.\", 'In 1863, he issued the\\nEmancipation Proclamation, a watershed moment in American history that declared all slaves in\\nConfederate-held territory to be \"forever free.\"', 'While the proclamation did not immediately abolish\\nslavery in the Union or border states, it was a crucial step toward the eventual eradication of this\\nabhorrent institution.', \"Lincoln's commitment to emancipation was not merely a strategic wartime measure but reﬂected his\\ndeeply held moral convictions.\", 'He viewed slavery as a moral evil that was fundamentally\\nincompatible with the principles of liberty and equality enshrined in the Declaration of Independence.', 'By issuing the Emancipation Proclamation, Lincoln struck a decisive blow against the institution of\\nslavery and laid the groundwork for its eventual abolition through the ratiﬁcation of the Thirteenth\\nAmendment in 1865.', \"Legacy and Impact\\nAbraham Lincoln's presidency left an indelible mark on American history and society.\", \"His leadership\\nduring the Civil War preserved the Union and laid the foundation for the nation's reuniﬁcation and\\nreconciliation in the aftermath of the conﬂict.\", 'His steadfast commitment to the principles of liberty,\\nequality, and democracy inspired generations of Americans and continues to resonate in the ongoing\\nstruggle for justice and equality.', \"Lincoln's legacy extends far beyond his presidency.\", 'His eloquent speeches, including the Gettysburg\\nAddress and his second inaugural address, remain iconic expressions of American values and ideals.', 'His leadership during a time of national crisis serves as a beacon of hope and resilience,\\ndemonstrating the transformative power of visionary leadership in times of adversity.', \"In conclusion, Abraham Lincoln's life and presidency embody the enduring principles of courage,\\nintegrity, and perseverance.\", 'From his humble origins on the frontier to his pivotal role in shaping the\\ncourse of American history, Lincoln\\'s legacy as the \"Great Emancipator\" and champion of democracy\\nendures as a testament to the power of leadership to transcend adversity and inspire positive change.', 'As we reﬂect on his life and legacy, we are reminded of the profound impact that one individual can\\nhave in shaping the destiny of a nation and the course of human history.']\n"
          ]
        },
        {
          "output_type": "stream",
          "name": "stderr",
          "text": [
            "[nltk_data] Downloading package punkt_tab to /root/nltk_data...\n",
            "[nltk_data]   Package punkt_tab is already up-to-date!\n"
          ]
        }
      ]
    },
    {
      "cell_type": "code",
      "source": [
        "import spacy\n",
        "nlp = spacy.load(\"en_core_web_sm\")\n",
        "tgs = {}\n",
        "for sent in sentences:\n",
        "\n",
        "  processed_sent = nlp(sent)\n",
        "\n",
        "  tags = [token.tag_ for token in processed_sent]\n",
        "  for tag in tags:\n",
        "    if tag in tgs:\n",
        "      tgs[tag] += 1\n",
        "    else:\n",
        "      tgs[tag] = 1\n",
        "print (tgs)\n"
      ],
      "metadata": {
        "colab": {
          "base_uri": "https://localhost:8080/"
        },
        "id": "YqoOjORSkBc2",
        "outputId": "1138c5a1-889a-4904-c460-2998f3a7bd59"
      },
      "execution_count": null,
      "outputs": [
        {
          "output_type": "stream",
          "name": "stdout",
          "text": [
            "{'NNP': 81, ':': 1, 'DT': 96, 'IN': 129, '_SP': 42, ',': 41, 'JJ': 63, 'VBZ': 5, 'CD': 11, 'RBS': 2, 'VBN': 14, 'NNS': 31, 'NN': 157, '.': 32, 'VBD': 32, 'TO': 6, 'VB': 11, 'VBG': 23, 'WP$': 1, 'POS': 12, 'PRP$': 26, 'JJS': 1, '``': 4, \"''\": 4, 'CC': 39, 'VBP': 6, 'RP': 1, 'PRP': 10, 'RB': 16, 'UH': 1, 'JJR': 1, 'MD': 2, 'WDT': 3, 'HYPH': 1, 'NNPS': 1}\n"
          ]
        }
      ]
    },
    {
      "cell_type": "markdown",
      "source": [
        "The most common tags were NNP (Proper Noun), IN(preposotion), JJ(adjective), DT(determiner), and NN(common noun),\n",
        "because there are many proper nouns and adjectives, it could be a story about something specific like a specific person or place. With there being many adjectives, there are lots of desciptions involved. With many prepositions and determiners, the story makes many connections and is very precise in identifying the nouns. Overall, the frequencies of POS tags imply this text is highly descriptive is probably precise with identifying entities.\n"
      ],
      "metadata": {
        "id": "MX8V1qE-skTq"
      }
    },
    {
      "cell_type": "markdown",
      "source": [],
      "metadata": {
        "id": "QDFLjvBgzmBk"
      }
    },
    {
      "cell_type": "code",
      "source": [
        "names = {}\n",
        "for sent in sentences:\n",
        "    processed_sent = nlp(sent)\n",
        "    for ent in processed_sent.ents:\n",
        "        name = ent.text\n",
        "        if name in names:\n",
        "            names[name] += 1\n",
        "        else:\n",
        "            names[name] = 1\n",
        "print(names)\n"
      ],
      "metadata": {
        "colab": {
          "base_uri": "https://localhost:8080/"
        },
        "id": "-NQEdNUutFZP",
        "outputId": "cbf88ae9-5420-4ec2-99a7-01ab9f778834"
      },
      "execution_count": null,
      "outputs": [
        {
          "output_type": "stream",
          "name": "stdout",
          "text": [
            "{'Abraham Lincoln': 2, '16th': 1, 'the United States': 2, 'American': 5, 'February 12, 1809': 1, 'Hardin County': 1, 'Kentucky': 1, 'Lincoln': 15, 'the Civil War': 4, 'America': 1, 'Great Emancipator': 2, 'Career': 1, 'Illinois': 1, '1860': 1, \"the Republican Party's\": 1, 'North': 1, 'South': 1, 'oYice': 1, '1861': 1, 'Gettysburg Address': 1, 'Emancipation Proclamation': 2, 'One': 1, '1863': 1, 'Confederate': 1, 'the Declaration of Independence': 1, 'the Emancipation Proclamation': 1, 'Thirteenth': 1, '1865': 1, \"Abraham Lincoln's\": 2, 'Union': 1, 'Americans': 1, 'second': 1, 'one': 1}\n"
          ]
        }
      ]
    },
    {
      "cell_type": "markdown",
      "source": [
        "The most common entity was \"Lincoln\", which appeared 15 times. The second most common one was \"American\" which appeared 5 times.  Lincoln is referred through multiple entities, he is most commonly referred to in the text by his last name, but he is referered to twice by \"Abraham Lincoln\" and his knickname \"Great Emancipator\" twice as well. So in total, he is ref"
      ],
      "metadata": {
        "id": "_XseVN1KzTxn"
      }
    },
    {
      "cell_type": "code",
      "source": [
        "roots = []\n",
        "for sent in sentences:\n",
        "    processed_sent = nlp(sent)\n",
        "    for token in processed_sent:\n",
        "        if token.dep_ == \"ROOT\":\n",
        "            roots.append(token.text)\n",
        "print(roots)"
      ],
      "metadata": {
        "colab": {
          "base_uri": "https://localhost:8080/"
        },
        "id": "JhEZdj2HxwFo",
        "outputId": "b637602a-f569-4cdf-c208-8f7f6e15f565"
      },
      "execution_count": null,
      "outputs": [
        {
          "output_type": "stream",
          "name": "stdout",
          "text": [
            "['Lincoln', 'remains', 'rose', 'continue', 'marked', 'poverty', 'possessed', 'embarked', 'grew', 'assumed', 'been', 'faced', 'tested', 'demonstrated', 'balanced', 'faced', 'assailed', 'remained', 'is', 'issued', 'was', 'was', 'viewed', 'struck', 'left', 'preserved', 'commitment', 'extends', 'remain', 'serves', 'embody', 'From', 'reminded']\n"
          ]
        }
      ]
    },
    {
      "cell_type": "markdown",
      "source": [
        "These are all the root words. Most of these are verbs.\n",
        "The root words dont talk about war or politics of any sort, but they do offer a glimpse into the character description of Lincoln in the text. From these root words, the common theme is if they are describing someone who was determined and persevered through hardship despite many challanges and setbacks.  "
      ],
      "metadata": {
        "id": "trT_Fucax68p"
      }
    }
  ]
}
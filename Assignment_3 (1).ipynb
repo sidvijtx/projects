{
  "cells": [
    {
      "cell_type": "code",
      "execution_count": null,
      "metadata": {
        "colab": {
          "base_uri": "https://localhost:8080/"
        },
        "id": "3un4KiMe4e4W",
        "outputId": "81c4b8ca-e7ab-48e2-adfc-4340989b91a8"
      },
      "outputs": [
        {
          "output_type": "stream",
          "name": "stdout",
          "text": [
            "Downloading from https://www.kaggle.com/api/v1/datasets/download/taniaj/australian-election-2019-tweets?dataset_version_number=2...\n"
          ]
        },
        {
          "output_type": "stream",
          "name": "stderr",
          "text": [
            "100%|██████████| 28.7M/28.7M [00:00<00:00, 169MB/s]"
          ]
        },
        {
          "output_type": "stream",
          "name": "stdout",
          "text": [
            "Extracting files...\n"
          ]
        },
        {
          "output_type": "stream",
          "name": "stderr",
          "text": [
            "\n"
          ]
        },
        {
          "output_type": "stream",
          "name": "stdout",
          "text": [
            "Path to dataset files: /root/.cache/kagglehub/datasets/taniaj/australian-election-2019-tweets/versions/2\n",
            "Path to dataset files: /root/.cache/kagglehub/datasets/taniaj/australian-election-2019-tweets/versions/2\n",
            "Files in dataset directory: ['auspol2019.csv', 'location_geocode.csv']\n"
          ]
        }
      ],
      "source": [
        "import kagglehub\n",
        "\n",
        "# Download latest version\n",
        "path = kagglehub.dataset_download(\"taniaj/australian-election-2019-tweets\")\n",
        "\n",
        "print(\"Path to dataset files:\", path)\n",
        "\n",
        "print(\"Path to dataset files:\", path)\n",
        "import os\n",
        "\n",
        "# List files in the dataset directory\n",
        "print(\"Files in dataset directory:\", os.listdir(path))"
      ]
    },
    {
      "cell_type": "markdown",
      "metadata": {
        "id": "jRJzPKpap2fD"
      },
      "source": [
        "downloading files from Kaggle"
      ]
    },
    {
      "cell_type": "code",
      "execution_count": null,
      "metadata": {
        "colab": {
          "base_uri": "https://localhost:8080/"
        },
        "id": "5I_gn3m2_aDW",
        "outputId": "39cdc7fb-510b-4f46-8324-8a8c6715f2cc"
      },
      "outputs": [
        {
          "output_type": "stream",
          "name": "stdout",
          "text": [
            "            created_at                   id  \\\n",
            "0  2019-05-20 09:13:44  1130401208756187136   \n",
            "1  2019-05-20 09:13:43  1130401205367140357   \n",
            "2  2019-05-20 09:13:33  1130401162782371841   \n",
            "3  2019-05-20 09:13:29  1130401143551434753   \n",
            "4  2019-05-20 09:13:23  1130401118666809345   \n",
            "\n",
            "                                           full_text  retweet_count  \\\n",
            "0  After the climate election: shellshocked green...            0.0   \n",
            "1  @narendramodi @smritiirani Coverage of indian ...            0.0   \n",
            "2  @workmanalice Do you know if Facebook is relea...            0.0   \n",
            "3  @vanbadham We all understand we have a compuls...            0.0   \n",
            "4  Shares were mixed in Asia, with India and Aust...            0.0   \n",
            "\n",
            "   favorite_count       user_id          user_name user_screen_name  \\\n",
            "0             0.0  9.248486e+07       PIPELINEPETE         jocksjig   \n",
            "1             0.0  7.756474e+08    Narinder Parmar      nparmar1957   \n",
            "2             0.0  5.687300e+04        Peter Wells       peterwells   \n",
            "3             0.0  9.081660e+17        The Realist    therealist822   \n",
            "4             0.0  5.260074e+08  Inquirer Business      InquirerBiz   \n",
            "\n",
            "                                    user_description  \\\n",
            "0  Retired Tradesman and Progressive Anti Conserv...   \n",
            "1  Life coach & trainer, Motivational speaker, Ma...   \n",
            "2  Writes for @theage and @smh on technology and ...   \n",
            "3  Calls it as I see it. Anti PC, SJW and VS. If ...   \n",
            "4  The official Twitter account of the Inquirer G...   \n",
            "\n",
            "                user_location      user_created_at  \n",
            "0        Brisbane, Queensland  2009-11-25 09:19:45  \n",
            "1  Wollongong, NSW, AUSTRALIA  2012-08-23 10:20:40  \n",
            "2                   Melbourne  2006-12-11 07:38:06  \n",
            "3                         NaN  2017-09-14 03:10:30  \n",
            "4                 Philippines  2012-03-16 03:51:59  \n",
            "            created_at                   id  \\\n",
            "0  2019-05-20 09:13:44  1130401208756187136   \n",
            "1  2019-05-20 09:13:43  1130401205367140357   \n",
            "2  2019-05-20 09:13:33  1130401162782371841   \n",
            "3  2019-05-20 09:13:29  1130401143551434753   \n",
            "4  2019-05-20 09:13:23  1130401118666809345   \n",
            "5  2019-05-20 09:13:21  1130401110882177029   \n",
            "6  2019-05-20 09:12:57  1130401009782673408   \n",
            "7  2019-05-20 09:12:28  1130400889997385728   \n",
            "8  2019-05-20 09:12:04  1130400789694885888   \n",
            "9  2019-05-20 09:11:47  1130400718026756102   \n",
            "\n",
            "                                           full_text  retweet_count  \\\n",
            "0  After the climate election: shellshocked green...            0.0   \n",
            "1  @narendramodi @smritiirani Coverage of indian ...            0.0   \n",
            "2  @workmanalice Do you know if Facebook is relea...            0.0   \n",
            "3  @vanbadham We all understand we have a compuls...            0.0   \n",
            "4  Shares were mixed in Asia, with India and Aust...            0.0   \n",
            "5  Australia's pollsters to review incorrect elec...            0.0   \n",
            "6  It is disappointing that @tanya_plibersek has ...            0.0   \n",
            "7  @robynesc I feel like this exact thing happens...            0.0   \n",
            "8  'Quiet Australians' are the latest to upset el...            0.0   \n",
            "9  Conservatives look set to form gov't after Aus...            0.0   \n",
            "\n",
            "   favorite_count       user_id          user_name user_screen_name  \\\n",
            "0             0.0  9.248486e+07       PIPELINEPETE         jocksjig   \n",
            "1             0.0  7.756474e+08    Narinder Parmar      nparmar1957   \n",
            "2             0.0  5.687300e+04        Peter Wells       peterwells   \n",
            "3             0.0  9.081660e+17        The Realist    therealist822   \n",
            "4             0.0  5.260074e+08  Inquirer Business      InquirerBiz   \n",
            "5             0.0  7.909156e+17          Adal News       adalnewspk   \n",
            "6             0.0  5.100258e+07     Matthew Rimmer         DrRimmer   \n",
            "7             0.0  2.271272e+09        Jaz Jubilee       jazjubilee   \n",
            "8             0.0  1.740061e+09              Moved        Topphnygn   \n",
            "9             0.0  2.797642e+08        Nevada News           Nevada   \n",
            "\n",
            "                                    user_description  \\\n",
            "0  Retired Tradesman and Progressive Anti Conserv...   \n",
            "1  Life coach & trainer, Motivational speaker, Ma...   \n",
            "2  Writes for @theage and @smh on technology and ...   \n",
            "3  Calls it as I see it. Anti PC, SJW and VS. If ...   \n",
            "4  The official Twitter account of the Inquirer G...   \n",
            "5                                                NaN   \n",
            "6  Professor of IP & Innovation Law @QUTLaw @QUT_...   \n",
            "7  She/Them. 23, Studying to Teach ESL💖 Currently...   \n",
            "8                                              Moved   \n",
            "9                            Latest news for Nevada.   \n",
            "\n",
            "                user_location      user_created_at  \n",
            "0        Brisbane, Queensland  2009-11-25 09:19:45  \n",
            "1  Wollongong, NSW, AUSTRALIA  2012-08-23 10:20:40  \n",
            "2                   Melbourne  2006-12-11 07:38:06  \n",
            "3                         NaN  2017-09-14 03:10:30  \n",
            "4                 Philippines  2012-03-16 03:51:59  \n",
            "5                         NaN  2016-10-25 13:59:12  \n",
            "6        Brisbane, Queensland  2009-06-26 10:17:54  \n",
            "7                   Australia  2014-01-01 06:39:51  \n",
            "8                         NaN  2013-09-07 03:29:26  \n",
            "9                 Nevada, USA  2011-04-10 00:00:17  \n"
          ]
        }
      ],
      "source": [
        "import pandas as pd\n",
        "csv_file = os.path.join(path, 'auspol2019.csv')\n",
        "x = pd.read_csv(csv_file)\n",
        "print(x.head())\n",
        "x1 = x['full_text']\n",
        "x = x.drop_duplicates()\n",
        "print(x[0:10])"
      ]
    },
    {
      "cell_type": "code",
      "execution_count": null,
      "metadata": {
        "id": "YYkRH-uYp6g4"
      },
      "outputs": [],
      "source": []
    },
    {
      "cell_type": "markdown",
      "metadata": {
        "id": "zo59Z2s6p_go"
      },
      "source": [
        "loading the dataset"
      ]
    },
    {
      "cell_type": "code",
      "execution_count": null,
      "metadata": {
        "id": "8lnYia3MkV-N"
      },
      "outputs": [],
      "source": [
        "import re\n",
        "def removeht(text):\n",
        "    result = []\n",
        "    for word in text.split():\n",
        "        if word.startswith('#') and len(word) > 1:\n",
        "            word = list(word)\n",
        "            word[1] = word[1].upper()\n",
        "            word = ''.join(word)\n",
        "            word = ' '.join(re.findall('[A-Z][^A-Z]*', word))\n",
        "        result.append(word)\n",
        "    return ' '.join(result)\n",
        "def removeNE(text)  :\n",
        "      text = re.sub(r'[^\\x00-\\x7F]',' ', text)\n",
        "      return text\n",
        "def removeURL(text) :\n",
        "    text = re.sub(r'^https?:\\/\\/.*[\\r\\n]*', '', text)\n",
        "    return text\n"
      ]
    },
    {
      "cell_type": "markdown",
      "metadata": {
        "id": "EDwC5qJhqCRR"
      },
      "source": [
        "these are the regex functions for removing hashtags, non english characters which are characters not found in the ascii table, and URLs.\n",
        "for the hashtag removal, here is the source :\n",
        "https://stackoverflow.com/questions/68448243/efficient-way-to-split-multi-word-hashtag-in-python\n",
        "\n",
        "for non english characters :\n",
        "https://stackoverflow.com/questions/8689795/how-can-i-remove-non-ascii-characters-but-leave-periods-and-spaces\n",
        "\n",
        "for urls :\n",
        "https://stackoverflow.com/questions/11331982/how-to-remove-any-url-within-a-string-in-python"
      ]
    },
    {
      "cell_type": "code",
      "execution_count": null,
      "metadata": {
        "colab": {
          "base_uri": "https://localhost:8080/"
        },
        "id": "yxTHXG5ulZQB",
        "outputId": "e1569a70-2d8b-41d8-86e3-378605b14553"
      },
      "outputs": [
        {
          "output_type": "stream",
          "name": "stdout",
          "text": [
            "            created_at                   id  \\\n",
            "0  2019-05-20 09:13:44  1130401208756187136   \n",
            "1  2019-05-20 09:13:43  1130401205367140357   \n",
            "2  2019-05-20 09:13:33  1130401162782371841   \n",
            "3  2019-05-20 09:13:29  1130401143551434753   \n",
            "4  2019-05-20 09:13:23  1130401118666809345   \n",
            "5  2019-05-20 09:13:21  1130401110882177029   \n",
            "6  2019-05-20 09:12:57  1130401009782673408   \n",
            "7  2019-05-20 09:12:28  1130400889997385728   \n",
            "8  2019-05-20 09:12:04  1130400789694885888   \n",
            "9  2019-05-20 09:11:47  1130400718026756102   \n",
            "\n",
            "                                           full_text  retweet_count  \\\n",
            "0  After the climate election: shellshocked green...            0.0   \n",
            "1  @narendramodi @smritiirani Coverage of indian ...            0.0   \n",
            "2  @workmanalice Do you know if Facebook is relea...            0.0   \n",
            "3  @vanbadham We all understand we have a compuls...            0.0   \n",
            "4  Shares were mixed in Asia, with India and Aust...            0.0   \n",
            "5  Australia's pollsters to review incorrect elec...            0.0   \n",
            "6  It is disappointing that @tanya_plibersek has ...            0.0   \n",
            "7  @robynesc I feel like this exact thing happens...            0.0   \n",
            "8  'Quiet Australians' are the latest to upset el...            0.0   \n",
            "9  Conservatives look set to form gov't after Aus...            0.0   \n",
            "\n",
            "   favorite_count       user_id          user_name user_screen_name  \\\n",
            "0             0.0  9.248486e+07       PIPELINEPETE         jocksjig   \n",
            "1             0.0  7.756474e+08    Narinder Parmar      nparmar1957   \n",
            "2             0.0  5.687300e+04        Peter Wells       peterwells   \n",
            "3             0.0  9.081660e+17        The Realist    therealist822   \n",
            "4             0.0  5.260074e+08  Inquirer Business      InquirerBiz   \n",
            "5             0.0  7.909156e+17          Adal News       adalnewspk   \n",
            "6             0.0  5.100258e+07     Matthew Rimmer         DrRimmer   \n",
            "7             0.0  2.271272e+09        Jaz Jubilee       jazjubilee   \n",
            "8             0.0  1.740061e+09              Moved        Topphnygn   \n",
            "9             0.0  2.797642e+08        Nevada News           Nevada   \n",
            "\n",
            "                                    user_description  \\\n",
            "0  Retired Tradesman and Progressive Anti Conserv...   \n",
            "1  Life coach & trainer, Motivational speaker, Ma...   \n",
            "2  Writes for @theage and @smh on technology and ...   \n",
            "3  Calls it as I see it. Anti PC, SJW and VS. If ...   \n",
            "4  The official Twitter account of the Inquirer G...   \n",
            "5                                                NaN   \n",
            "6  Professor of IP & Innovation Law @QUTLaw @QUT_...   \n",
            "7  She/Them. 23, Studying to Teach ESL💖 Currently...   \n",
            "8                                              Moved   \n",
            "9                            Latest news for Nevada.   \n",
            "\n",
            "                user_location      user_created_at  \n",
            "0        Brisbane, Queensland  2009-11-25 09:19:45  \n",
            "1  Wollongong, NSW, AUSTRALIA  2012-08-23 10:20:40  \n",
            "2                   Melbourne  2006-12-11 07:38:06  \n",
            "3                         NaN  2017-09-14 03:10:30  \n",
            "4                 Philippines  2012-03-16 03:51:59  \n",
            "5                         NaN  2016-10-25 13:59:12  \n",
            "6        Brisbane, Queensland  2009-06-26 10:17:54  \n",
            "7                   Australia  2014-01-01 06:39:51  \n",
            "8                         NaN  2013-09-07 03:29:26  \n",
            "9                 Nevada, USA  2011-04-10 00:00:17  \n"
          ]
        }
      ],
      "source": [
        "x['full_text'] = x['full_text'].apply(removeht)\n",
        "x['full_text'] = x['full_text'].apply(removeNE)\n",
        "x['full_text'] = x['full_text'].apply(removeURL)\n",
        "print(x[0:10])\n",
        "\n",
        "\n"
      ]
    },
    {
      "cell_type": "markdown",
      "metadata": {
        "id": "h68OC2O4qgWD"
      },
      "source": [
        "this is applying the regex functions to the column that has the tweet texts."
      ]
    },
    {
      "cell_type": "code",
      "execution_count": null,
      "metadata": {
        "colab": {
          "base_uri": "https://localhost:8080/"
        },
        "id": "ZaGjjEQ1mWdn",
        "outputId": "d22fe8eb-dadc-4a7f-b7ac-7058e2580738"
      },
      "outputs": [
        {
          "output_type": "stream",
          "name": "stdout",
          "text": [
            "We put the question forward to the public   who as leader of the Liberal Party, do you think would have given the Coalition the best chance to win this election? You voted @JulieBishopMP , here s her reaction. Aus Votes News https://t.co/ennxyjSvkr\n",
            "Labor's tax policies 'highly progressive' with top 20% feeling most impact Ausvotes Auspol https://t.co/23ZAz917OH\n",
            "Auspol https://t.co/bmuotqFhsd\n",
            "The African National Congress Party has retained power in South Africa after winning the country's election. The ANC won 57.5 per... https://t.co/SdHeEEyG4X\n",
            "Australia gets to vote?\n",
            "Warringah bucked the trend because @TonyAbbottMHR is just plain nasty. Auspol https://t.co/FVpSDLf9QW\n",
            "The chardonnay sippers have taken over the pub,changed the decor,music,menu,turned it into a yuppie wine bar and are now are left trying to figure out why the HiVis-beer drinkers have left to drink else where.But we came here to help them &amp; educate them about culture Auspol\n",
            "Labor WILL win the next election IF they finally get fair dinkum on climate polity. Labor needs to commit to 100% renewables and shutting down ALL coal mines in their FIRST term of Auspol government! @AlboMP @AlboMP !.\n",
            "If I have this right, people who do not prioritise saving to buy a home, the Morrison Govt wants taxpayers to subsidise the borrowing. Auspol Ausvotes\n",
            "\"l got given a 'Let's Make Australia Great Again' How-To-Vote card.\" - @JaydeLovell on the Aussie Elections @franifio: \"No, no, no! Let's make nothing, ever again. Don't make anything. Stop making things!\" VIEW the full Postgame vid, become a member: https://t.co/9iHIdtrimg https://t.co/cElsgPZihn\n",
            "Bob Hawke, Who Led Australia Into a New Era as Prime Minister, Dies at 89 https://t.co/cnG9zLuUX5 Auspol\n",
            "Ironic timing for this old paper to be found under the carpet (courtesy of a friend). Dec 1974 headline. Ausvotes https://t.co/caH2lvTToH\n",
            "Auspol We are all soul weary today. We fought, we thought we had done enough, we are shocked and depressed. Today get off social media - go out and garden, go for a walk visit the bush or the beach. Recharge for tomorrow we will continue to fight.\n",
            "Cowper Votes Auspol Ausvotes Aus Votes2019 https://t.co/bTGh8B1xTL\n",
            "@sallymcmanus Haven t they got enough to do already?? Appalling No Notion Ausvotes\n",
            "Clive Palmer 'destroyed lives' says ex-Queensland Nickel worker https://t.co/UNsthQCJhr\n",
            "Hahaha ha shit yeah vote 1 Snot Block Auspol https://t.co/fUtkrSpzMQ\n",
            "If you still have any thoughts that you may vote L N P, Hanson or UAP this election please at least read this. It may change your mind. \"The Guardian view on the Australian election: vote on the climate emergency\" https://t.co/JbORsntGAW Auspol Ausvotes\n",
            "I'm in the US at the moment, &amp; despite my love for dystopian fiction, in my heart of hearts I must be an optimist, because I went to bed hopeful. I didn't think we'd return for another helping. Just woke up to... this. Speechless. Ausvotes Auspol Australiavotes2019\n",
            "Australian Federal Election 2019 https://t.co/6MPLtPoOM9\n",
            "You'd think it would be a given, wouldn't you? Auspol https://t.co/CoPoZwKjLj\n",
            " Property investors who use negative gearing and capital gains tax deductions end up paying almost three times more tax than the subsidies they receive from government, new modelling shows,  writes the respected Matthew Cranston in today s AFR. Auspol Aus Votes19 @collias_bill https://t.co/75AYAXhuHm\n",
            "Bring it on! Hope you have allocated heaps in the budget for the National Integrity Commission/# Federal I C A C because it is going to be very, very busy for years cleaning up the COALition's mess. RKD Auspol L N Pfail Aus Votes https://t.co/2UmOLtr5bP\n",
            "Brilliant    Auspol https://t.co/jlC9aX7xVw\n",
            "For those who can vote today Vote! Many people want to vote but they don t have the chance too so please use this day to use your voice and vote! Ausvotes\n",
            "Tony Abbott is unsurprisingly NOT gutted, 100% certain he has lined up a gold plated golden parachute nepotistic appointment and can't wait to start raking in the cash, plus his pension, for nothing. Auspol\n",
            "Re @craigthomler &amp; Re: https://t.co/GSPPP1FmT5 Puffles (*is gutted*) at Aus Votes - &amp; notes the UK is also about to say \"Hold my beer\" re EU Parliament elections next week :-(\n",
            "The mine has become a lightning rod for voters ahead of next month s general election, dividing the country as well as Australia s major political parties   the conservative Liberal-National coalition government and the opposition Labor Party. https://t.co/dm5zEUoE0Y\n",
            "Know where Australia's 3 major political parties stand on asylum seeker policy ahead of the election. This graphic by Asylum Insight summarises their positions and see https://t.co/UJZbtnrRzP for more in depth explanation. Who will you back this Saturday? Australiavotes2019 https://t.co/FAnNxKi1Q1\n",
            "Bob Hawke, an Australian powerhouse himself, has passed away. Love him or loath him, he was a fair dinkum Aussie who loved his country. May he Rest In Peace. My thoughts are with his family at this time. Hawke Auspol  Rip\n",
            "I can t believe this statement at this time. Auspol Bob Hawke https://t.co/KtWaSIJyLG\n",
            "@ScottMorrisonMP responds to @billshortenmp over whether gay people go to hell: I m not running for Pope, I m running for Prime Minister. Glad he clarified that, because without Slo Mo saying it, I would have been misled! Auspol Ausvotes Happyclappersloganbogan L N Pfail https://t.co/J5RnAB5X7x\n",
            "@AP Every time these people protest they lose supporters. They protested 2016 election, Trump won, they protested in Australia, conservative won, they protested in Brazil, conservative won, they are protesting in France, Marco will lose\n",
            "Labor lost the unlosable election   now it's up to Morrison to tell Australia his plan | Katharine Murphy https://t.co/CCYTJvWqOO Scotty s Faith has given him a miracle. I hope he will govern with compassion &amp; get rid of the safe school program. It is a parents worst nightmare.\n",
            "Voted! I find it hard to believe there were so many angry anti everything parties on the ballot papers this year    It was difficult to pick how last to put them all (apart from the nazi party, they were definitely last) Ausvotes\n",
            "Bill Shorten stands down. About fucking time. Auspol\n",
            "@billshortenmp Go Labor Go Bill!                      Bring It Home For All Australians Auspol Ausvotes2019\n",
            "Clearly he doesn t mix religion and politics. He abstained from the same sex marriage vote AND tortures refugees overseas. Auspol Speers @David_Speers\n",
            "That cat is on my sideboard knocking shit off and I don't even care. Ausvotes Depressionsinkingin\n",
            "@nyunggai         Ausvotes\n",
            "Ausvotes Auspol notice that all voting in necessary school halls built under labor's GFC watch. Well done !!Labor\n",
            "Word of advice to Outsiders on Sky News, which was full of schardenfreude today: Morrison dodged a bullet, a stunning result but far from a mandate. George W. Bush had a similar result in 2004, which he crowed gave him \"political capital\", but in months was a lame duck. Auspol\n",
            "The big hook is needed for Albo. Auspol https://t.co/uuhPHu1DdN\n",
            "@annabelcrabb Our system is the best! I m on a school P&amp;C, and we served up snags, bacon egg burgers, and a great array of baking all morning! Happy voters, happy parents and kids, happy our small P&amp;C is $1100 richer. Auspol Democracysausage Democracycake\n",
            "Fuck you Aus Pol Australia Decides\n",
            "Clive was always going to win - get a seat (win), don't get a seat but help Libs (win), do/dont get a seat but gain influence/leverage (win), do/dont get a seat &amp; claim tax deduction for ad spend (win win win). No downside for Clive no matter the outcome! Auspol https://t.co/motwhAzy3L\n",
            "BREAKING , @billshortenmp finds his feet as a tectonic shift towards @AustralianLabor hits Election2019 after the hit job by @ScottMorrisonMP s buddy Rupert Murdoch on Bills Mum , proving scomo is just a scare campaign Auspol Aus Votes2019 https://t.co/KzErZFPpWP\n",
            "Frydenberg backs government's climate policy despite Warringah walloping Aus Votes Auspol https://t.co/1sz0Sib3BO\n",
            "After five long weeks of election campaigning and promises, today it was Australian voters' turn to have their say. @DamoNews Aus Votes News https://t.co/x6t92hpESS\n",
            "Auspol Aus Votes Apparently Clive Palmer is out of the country&amp; dining in Fiji during the campaign&amp; I'm skipping meals to run. Contrast\n",
            "Looks like we have three more years of a minority government. Okay let s breakout the popcorn and watch the sparks fly Auspol Australia Decides The Drum Australiavotes\n",
            "When I voted in Brisbane we both grabbed Labor and Greens htm, I was unsure of my Senate vote until Labor guy suggested vote Greens as the final Senate spot was looking between Clive and Larissa. I voted Larissa for obvious reasons. Now that is strategic Auspol Aus Votes2019\n",
            "ScoMo Miracles: Scare campaign worked! Preference deals with One Nation and UAP worked! Ausvotes How Good Is Australia\n",
            "Should be able to pick PM directly on vote form. Not just a party A U S Vote19 Australia Decides\n",
            "I'm heartbroken Auspol\n",
            "@mumabear13 @NannanBay They'll go quiet again once the cuts start and we see obvious suffering of vunerable Australians. Auspol\n",
            "Let s all be the Lorax today... Auspol Ausvotes19 https://t.co/nUQ0FRJHfo\n",
            "The first time I voted in an election, Bob Hawke became Prime Minister. 1980's Australia became awesome. What an absolute legend. Vale Bob Hawke\n",
            "Congratulations @ScottMorrisonMP Australia Decides Election2019 Results Scomo https://t.co/EWJvyiIbI1\n",
            "@LyleShelton @LNPQLD @AuConservatives Auspol The point of what exactly? What liberty is being threatened &amp; by whom? There is no policy I can see from a major party that threatens freedom. There is no \"ALP gender ideology\" just trust in professional educators to provide age-appropriate sex education, a good thing.\n",
            "Morrison's attacks are nonsensical. Does he really think that on Sunday suddenly border patrols etc will all cease? He is just fear mongering. He's unworthy to be PM Auspol Ausvotes https://t.co/eMYlYexMby\n",
            "Australian PM heads to church, football after 'miracle' election win https://t.co/tuIetJZnCR News\n",
            "@smh To be clear, we re not talking mainstream religious schools here, we re talking evangelical schools that teach crazy shit like Intelligent Design and God will send you to hell if you re gay. It s just freedom to spread bile and unscientific drivel. Auspol Ausvotes\n",
            "Shattered right now. What kind of world will my children live in?   Ausvotes\n",
            "My Hash House Harriers name is Currently Un-Named Travis Ausvotes Acronyms C B R https://t.co/7HFHHh5QjL\n",
            "Why Australians aren't happy with their leader choices: Arrogant  https://t.co/NSSjiBwf6h Burgers Cooking\n",
            "Labor unveils $118m package for veterans https://t.co/XOrKBGhha9 via @canberratimes Auspol L N Pfail Aus Votes\n",
            "2019 Australia election: Morrison's coalition seeking shock majority - https://t.co/ZfeEVr84Cs https://t.co/SITJMImFIr\n",
            "Democracy achieved Ausvotes https://t.co/r8z7d3VNlN\n",
            "10,000 Australians dead by suicide since mid 2016. Tragically unless we address the Drivers of Despair - poverty, inequality, underemployment, discrimination - more will die before the 2022 Federal Election. @GerryGeorgatos https://t.co/zII9BQg809 via @ChangeAUS\n",
            "Looked in the mirror lately? Auspol Clearlynot https://t.co/NLniT5btKQ\n",
            "@AnnaApp91838450 @darhar981 It's a great evening here in Australia! We have just had a federal election and the far left Labor party, who was hotly tipped to win, heavily favoured by the msm and heavily funded by left wing advocacy groups has just lost the un-losable election to the consvervative government\n",
            "Hey Lib voters, watch the decimation of Medicare, the ABC and our environment. See the cost of living soar, more penalty cuts, more punishment of the poor, more job losses and more homeless. Maybe some of these things happen to you... And remember that it s YOUR fault Auspol\n",
            "So @CliveFPalmer and @UnitedAusParty ripped @deesnider's \"We're not gonna take it\" . . . for literally nothing. Auspol\n",
            "How is this guy even a valid candidate? Auspol Ausvotes https://t.co/QO7hhQQTu8\n",
            "\"Then most depressing aspect of this result is that the LNP will take it as an endorsement to keep on doing what...\" https://t.co/S48cNOD5Xq\n",
            "@margokingston1 You could ask her why she's prepared to support the current government in the event of a hung parliament (because she doesn't like ALP tax reforms) when she's stated that Climate Change is the big issue. Cheers Margo Auspol Ausvotes\n",
            "Election2019 Results waiting to learn how the lying Facebook ads &amp; Clivepalmer millions have screwed Democracy Australia Decides\n",
            "@Smithwatcher @annacaldwell @NRL @AFLcomau @SkyNewsAust @billshortenmp If you want to continue to engage me, I'll be back after getting some fags. Kenny On Sunday Aus Pol I'll look forward to the engagement.\n",
            "          \"Australia's unexpected election result is being compared to Brexit and the 2016 US election\" https://t.co/HxwKO9r1nb\n",
            "Visiting Australia... friends in shock at the election result returning Scott Morrison s conservative coalition to power. The identity crisis of the Left continues A U S Vote19 https://t.co/PZ8DedstS9\n",
            "Once-booed PM Abbott has been held Warringah seat on parliament since 1994. Aus Pol Aus Votes2019\n",
            "Congrats to the 71% of voters who got this correct. It was Bob Hawke! Auspol\n",
            "@petertimmins3 @nickreeves9876 In the last general election in Australia, Lynton Crosby didn't release Tony Abbots manifesto until the eve of the election on the Friday. So, this trick doesn't suprise me one bit from the PayPal party. Who's daft enough to go to the ballot to vote for a man like this?\n",
            "Australia staring at election cliff-hanger as poll predictions fall flat https://t.co/Weo61NFgTw\n",
            "It s the unknown unknowns that will decide who wins the election | Peter Lewis https://t.co/3GQWVDyqBC\n",
            "Short film from @healthy_climate on the importance of Climatechange for this weekend's election in Australia. I know I'm preaching to the converted here, but this really matters! https://t.co/5lho6TkmSM @sharanjit @SandroDemaio  \n",
            "Heee sss gooonneee!! Zali!!! Ausvotes\n",
            "As per @quaedvliegs on boat arrivals, come Sunday. Business as usual, refugees via airports. No reason not to Ditch Dutton Focus on the facts, ignore the lies and propaganda. Ausvotes2019 Auspol https://t.co/SMMk01sHpF\n",
            "Their islands and human rights have been ignored by the Australian government's failure to reign in its contribution to global warming, say Torres Straight Islander people Auspol https://t.co/AFuhammgIp via @NYTimes\n",
            "@_Oliver_Yates They should only be allowed 2 each and nothing nasty. Auspol\n",
            "@michaelhallida4 @SkyNewsAust @rowandean And the rest of Australia that didn't vote ALP/Green.\n",
            "Auspol Election2019 I don't have the intestinal fortitude to follow the last gasps of this election campaign so... ...whatever side of politics you support, thanks for keeping Australian democracy alive. See you all on the 'other side'.\n",
            "Coalition plans fresh $1.5bn public service cuts to fund election promises https://t.co/rxbvhj8oTb\n",
            "The generalisations made by reporters in this Ausvotes coverage had begun. Definitely about the  brick veneer  vibes and how people in such homes vote\n",
            "Things you won t miss once the election is over? So many things but number 1 has to be Morrison s  How good is (insert mute person, usually a woman here)  Please never inflict this phrase on Australia again. A U S Vote2019 Auspol19\n",
            "Not sure I d put Bill Shorten in Winx category but it shows the measure of how much of an impact the champion mare has had on Australia s mainstream culture when both sides have used Winx to sell themselves this election campaign Auspol Ausvotes Horseracing https://t.co/7wRWuub5CP\n",
            "@RLBraithwaite @northway_debbie @ScottMorrisonMP I had the same exact thought. Christian hypocrisy at its most unctuous and pathetic. Auspol\n",
            "@ScorpioGCoast @1Hendorable1 They will never win with a moron like Bill Shorten, who voted so often moronically with the ATM Government showing no balls. Auspol\n",
            "@billshortenmp And what happened to the $1Billion in tax/yr we were promised re BG Group - whom received CSG-LNG approval under Labor (State &amp; Federal)??!! You Wayne Swan and Tony Burke remain SILENT!!! Wapol Qldpol Politas Sapol Auspol Ausvotes2019 https://t.co/eobLnSlUNm\n"
          ]
        }
      ],
      "source": [
        "x3 = x['full_text'].tolist()\n",
        "import random\n",
        "for i in range(0,100) :\n",
        "    j = random.randint(0,len(x3))\n",
        "    print(x3[j])\n"
      ]
    },
    {
      "cell_type": "markdown",
      "metadata": {
        "id": "Xa3M9gP8qoCf"
      },
      "source": [
        "The column containing the tweets is converted to a list. the next purpose is just a way to view some sample tweets, I can't view all of them since the dataset is too large, it takes random numbers within the range of 0 to the length of the list of tweets."
      ]
    },
    {
      "cell_type": "code",
      "execution_count": null,
      "metadata": {
        "id": "MpebOphErAhg"
      },
      "outputs": [],
      "source": []
    },
    {
      "cell_type": "code",
      "execution_count": null,
      "metadata": {
        "id": "O2leSIgjnSIU"
      },
      "outputs": [],
      "source": [
        "h1 = \"Australia\"\n",
        "h2 = \"Parliament\"\n",
        "h3 = \"Taxes\"\n",
        "h4 = \"Vote\"\n",
        "h5 = \"Democracy\"\n",
        "h6 = \"AusPol\"  #common abreviation for Australian politics found when looking at the tweets\n",
        "h7 = \"Election Night\"\n",
        "h8 = \"Tax Policy\"\n",
        "h9 =  \"Campaign Promise\"\n",
        "h10 = \"Climate Change\"\n",
        "hashtags = [h1,h2,h3,h4,h5,h6,h7,h8,h9,h10]\n",
        "\n",
        "\n",
        "\n",
        "\n",
        "\n",
        "\n"
      ]
    },
    {
      "cell_type": "markdown",
      "metadata": {
        "id": "S2odE9-Traq3"
      },
      "source": [
        "These are the hashtags."
      ]
    },
    {
      "cell_type": "markdown",
      "metadata": {
        "id": "eGM8wzRVriq1"
      },
      "source": [
        "This is a function to search for each hashtag, the tweets containing the hashtag, and the frequencies for each tweet has for a hashtag. All the tweets containing the hashtags are put in a big dictionary, then after finishing the search for each hashtag, the top 5 by frequency are added to a list for the top 5 for each hashtag. This list contains a list containing the hashtag name, the tweet, and the frequency. At the end, the list of top5s are printed in an organized manner. Since some of the hashtags got no results, in that case, it returns none found.\n",
        "\n",
        "There was no lower case in the instructions for this part, so There were not as many results as expected for Australia. The multiword hashtags did not get any because the hashtags did not contain spaces within the phrases so it was unlikely for them to found the way they were written.  \n",
        "But with spaces added and caps are altered with, the results do change.\n"
      ]
    },
    {
      "cell_type": "code",
      "execution_count": null,
      "metadata": {
        "colab": {
          "base_uri": "https://localhost:8080/"
        },
        "id": "MzA135H7eHmY",
        "outputId": "5888466c-9b75-4495-d4a7-577fcb4b8bcc"
      },
      "outputs": [
        {
          "output_type": "stream",
          "name": "stderr",
          "text": [
            "[nltk_data] Downloading package stopwords to /root/nltk_data...\n",
            "[nltk_data]   Unzipping corpora/stopwords.zip.\n"
          ]
        }
      ],
      "source": [
        "import spacy\n",
        "from nltk.corpus import stopwords\n",
        "import nltk\n",
        "nltk.download('stopwords')\n",
        "\n",
        "# get a list of stopwords from NLTK\n",
        "stops = set(stopwords.words('english'))\n",
        "\n",
        "# Load SpaCy English language model\n",
        "# this is apipeline capable of applying morphological, lexical and syntax analysis on text\n",
        "\n",
        "nlp_pipeline = spacy.load(\"en_core_web_sm\")\n",
        "\n",
        "def pre_process_a_single_sentence(sentence):\n",
        "  # Lower case text\n",
        "  sentence = sentence.lower()\n",
        "\n",
        "  processed_sentence = []\n",
        "\n",
        "  # Tokenize, and lemmatize the text\n",
        "  doc = nlp_pipeline(sentence)\n",
        "\n",
        "  for token in doc:\n",
        "    # here token is an object that contains various information about each token\n",
        "    # information such as lemma, pos, parse labels are available\n",
        "\n",
        "    # we will check here if tokens are present in stopwords\n",
        "    # if not, we will retain their lemma\n",
        "    if token not in stops:\n",
        "      lemmatized_token = token.lemma_\n",
        "      processed_sentence.append(lemmatized_token)\n",
        "  processed_sentence = \" \".join (processed_sentence)\n",
        "  return processed_sentence\n",
        "\n",
        "pre_processed_corpus = [pre_process_a_single_sentence(sentence) for sentence in x3]\n",
        "\n",
        "import pickle\n",
        "\n",
        "with open('preprocessed_corpus.pkl', 'wb') as file:\n",
        "       pickle.dump(pre_processed_corpus, file)\n"
      ]
    },
    {
      "cell_type": "markdown",
      "source": [
        "this pre-processes the data through lowercasing, tokenization, and lemmatization"
      ],
      "metadata": {
        "id": "MvxCwEovBKFh"
      }
    },
    {
      "cell_type": "code",
      "execution_count": 1,
      "metadata": {
        "id": "jF-5Ln9eIwEe"
      },
      "outputs": [],
      "source": [
        "import pickle\n",
        "with open('preprocessed_corpus.pkl', 'rb') as file:\n",
        "       pre_processed_corpus = pickle.load(file)"
      ]
    },
    {
      "cell_type": "markdown",
      "source": [
        "this creates a way to store the pre-processed data that way with each run, I won't have to go through pre-processing again."
      ],
      "metadata": {
        "id": "6oYlU830BVx2"
      }
    },
    {
      "cell_type": "code",
      "source": [
        "print (pre_processed_corpus[:15])"
      ],
      "metadata": {
        "colab": {
          "base_uri": "https://localhost:8080/"
        },
        "id": "ABD0KSkfUHXB",
        "outputId": "64381d06-6c87-4de1-8f4d-d548dddaf6ae"
      },
      "execution_count": null,
      "outputs": [
        {
          "output_type": "stream",
          "name": "stdout",
          "text": [
            "['after the climate election : shellshocke green group remain resolute https://t.co/wyjzmacyid', '@narendramodi @smritiirani coverage of indian election on sbs tv channel , australia . jai hind      https://t.co/90qplbeaf8', '@workmanalice do you know if facebook be release an election post - mortem in australia ? they look into the midterm , but be we important enough to bother ?', '@vanbadham we all understand we have a compulsory preference system . vote 1 mightn t go to the major but 2 or 3 usually do . majority of australia want lnp , that s the fact . this be nothing like the usa system .', 'share be mix in asia , with india and australia lead gain for the region follow election that looked set to keep incumbent in office . https://t.co/krrhpyurid', \"australia 's pollster to review incorrect election forecast https://t.co/isy2spg7l5\", 'it be disappointing that @tanya_plibersek have rule herself out of the @australianlabor leadership challenge - give her quality https://t.co/n1daivrrf7 auspol', '@robynesc I feel like this exact thing happen with australia too . people think   I really like   zero gravity , it s a good song ! but it s from australia , a country that I think shouldn t be compete , so I ll vote for something else', \"' quiet australian ' be the late to upset election forecaster ' expectation https://t.co/ryh3vinw0w\", \"conservative look set to form gov't after australia vote . https://t.co/mlighhw8yc\", 'auspol hear , bloody hear . any party that oppose this should be relentlessly grill as to why ...... false election claim spark push for truth in political advertising law https://t.co/oe5nkyop8n', 'comment : lose the unlosable election : the aftermath for labor https://t.co/lcgwaajztx when decent policy & amp ; support 4 the less well off r discount at a crucial election we must b ashamed as a nation . this be a money 4 the rich election - enviroment & amp ; job not even an issue .', 'conservative look set to form gov t after australia vote    fox news https://t.co/15uvesesj5', \"australia 's pollster to review incorrect election forecast https://t.co/tdh0hywtfx\", '@joshzepp imo , people who care enough to vote without coercion have a great likelihood of voting on substantive issue rather than on personality . so compulsory voting be at least partly to blame for australia not become the great country that it could be ( for the moment , at least ) .']\n"
          ]
        }
      ]
    },
    {
      "cell_type": "code",
      "source": [
        "print(len(pre_processed_corpus))\n",
        "\n",
        "\n"
      ],
      "metadata": {
        "colab": {
          "base_uri": "https://localhost:8080/"
        },
        "id": "k3UzE6Y0bOW7",
        "outputId": "c7148b38-a7ed-4f74-c9e3-a5a1bb70e618"
      },
      "execution_count": 74,
      "outputs": [
        {
          "output_type": "stream",
          "name": "stdout",
          "text": [
            "183371\n",
            "183371\n"
          ]
        }
      ]
    },
    {
      "cell_type": "code",
      "source": [
        "import random\n",
        "size = 1000\n",
        "corpus = random.sample(pre_processed_corpus, size)"
      ],
      "metadata": {
        "id": "ThRlPKrTboUe"
      },
      "execution_count": 67,
      "outputs": []
    },
    {
      "cell_type": "markdown",
      "source": [
        "this reduces the size of the data since there are over 100,000 tweets, vectorizing all of them forces the session to crash, so reducing the size makes it go much quicker."
      ],
      "metadata": {
        "id": "g-satD1BBiUV"
      }
    },
    {
      "cell_type": "code",
      "source": [],
      "metadata": {
        "id": "MfabHWjb8YLk"
      },
      "execution_count": null,
      "outputs": []
    },
    {
      "cell_type": "code",
      "source": [
        "print(corpus[:20])"
      ],
      "metadata": {
        "id": "jleGs9q1rsWj",
        "colab": {
          "base_uri": "https://localhost:8080/"
        },
        "outputId": "d5d0b042-767f-4722-dca1-9ed9529cc7b0"
      },
      "execution_count": 52,
      "outputs": [
        {
          "output_type": "stream",
          "name": "stdout",
          "text": [
            "['... no . ausvotes auspol https://t.co/kfrkvcppgj', 'yep , that be what I be hear during campaign from people here in qld   the negative tax message , particularly the noise about the retirement tax , do seem to cut through ,   a senior queensland labor figure say australia decide https://t.co/odsp7zb256', 'there be a hidden campaign of   immeasurable size be fight this election in the post - truth , largely unregulated battleground auspol https://t.co/wjzpgodhdr', 'here be a song by jenny talia of australia , which sum up the way many ppl in australia feel today about an    & amp ; malevolent govt allow 2 multi billionaire to hijack our democracy for their own self interest .    auspol https://t.co/vkpakwgm9y', 'in a taxi head to ellenbrook - @cporterwa country . pearce be another marginal wa seat that shorten would love to win . 6 month ago porter be go . today , goss be that he will scrape in . why a taxi ? one must improvise . it s ok . I ve train for this . wapol auspol ausvote', 'this be a respectful and gracious comment ! thank you for respect the core of our democracy - you do yourself and your party proud . this be a shine example for the many party drive bully on how to conduct political conversation with dignity and respect auspol https://t.co/ic3xn6nfc', 'maybe a tired thought from someone who have work a lot this week ... why do not the alp and green get together and be a coalition to take on the coalition ? ausvote', 'darling child think the government * give * you a sausage for voting ... democracy sausage aus vote we explain . there be sadness .  ', 'u s a = friend & amp ; china = customer accord to the prime minister of australia put he at odd with his former foreign minister ... auspol https://t.co/0iy3mjfb1c', 'ausvotes https://t.co/8ai645egv1', 'will these taste like ... ? a ) democracy b ) freedom c ) bunning d ) absolute poo auspo I a u s v o t e s https://t.co/62akfvzugy', '@dylabolical I m vote in northcote today , no liberal vollie , it s down to labor / green , and victorian socialist be turn out with several vollie too . ausvote', '@scottmorrisonmp what legacy be you go to leave we ? nothing compare to this great man ! do it for bob vote labor ausvote auspol https://t.co/4mcquwlue3', 'wonder what the woman of new england vote think .. it ll take the woman of new england and a few intelligent man ( not picture ) to kick out a man devoid of integrity barnaby joyce . ausvotes auspol https://t.co/xpigaqh7mt', '@nevillerutt @theage yes . union sell out worker right be widespread . @cpsunion auspol', \"help shape australia 's future & amp ; make sure your vote count ! it be up to our young generation to show the current politician what we want for our future ! ausvote auspol2019 a u s vote19 https://t.co/scd4bk0adn\", '@bjwgill nah he say on day 1 . payrise for all . I like what he do with the mushroom company & amp ; kleen event . signmeupbill auspol', 'I be just say robert whitehill represent australia at the pok mon championship in san francisco in 2016 and also have good policy so I would love if he be the next ricky muir , court by both major party as the swing vote . https://t.co/vpohqiwdsf', 'this be go to be a very busy account for the next few year follow and enjoy the humor ..     https://t.co/vfvupnadut auspol @chickensteggall steggallschicken', '@liberalaus @wendoureeswan you know what else be fishy ? the doubling of australias debt by the lnp , excuse for pedophile cardinal by the lnp , economic stagnation by the lnp , the redirection of public fund to private school and the wealthy by the lnp shitti government ever auspol ausvotes19']\n"
          ]
        }
      ]
    },
    {
      "cell_type": "code",
      "source": [
        "from sklearn.feature_extraction.text import CountVectorizer, TfidfVectorizer\n",
        "\n",
        "# Define the N for N-grams\n",
        "N = 1  # Change this to the desired value for N-grams\n",
        "\n",
        "# Initialize the CountVectorizer with N-gram range\n",
        "vectorizer = CountVectorizer(ngram_range=(N, N), lowercase = True, binary = False)\n",
        "\n",
        "# Fit and transform the corpus\n",
        "vectorizer.fit(corpus)\n",
        "\n",
        "# Check a few items in the vocabulary\n",
        "vocab = vectorizer.get_feature_names_out()\n",
        "\n",
        "print (vocab)\n"
      ],
      "metadata": {
        "id": "9HutxJidX_5S",
        "colab": {
          "base_uri": "https://localhost:8080/"
        },
        "outputId": "b005ccde-1bbe-4cdf-80e3-d7390a496257"
      },
      "execution_count": 68,
      "outputs": [
        {
          "output_type": "stream",
          "name": "stdout",
          "text": [
            "['000' '001' '002' ... 'zyq7nbts7r' 'zyuawzpbgu' 'zzo0nf2bpl']\n"
          ]
        }
      ]
    },
    {
      "cell_type": "markdown",
      "source": [
        "this initializes count vectorizor, this is Bag of Words, lower is true to ensure hashtag can get read."
      ],
      "metadata": {
        "id": "pGCDruVkB2G3"
      }
    },
    {
      "cell_type": "code",
      "source": [
        "print (vocab)"
      ],
      "metadata": {
        "id": "0Cd0ccJPmbPn",
        "colab": {
          "base_uri": "https://localhost:8080/"
        },
        "outputId": "7f71c32f-1f31-4da2-ef62-1b699473c7ac"
      },
      "execution_count": 69,
      "outputs": [
        {
          "output_type": "stream",
          "name": "stdout",
          "text": [
            "['000' '001' '002' ... 'zyq7nbts7r' 'zyuawzpbgu' 'zzo0nf2bpl']\n"
          ]
        }
      ]
    },
    {
      "cell_type": "code",
      "source": [
        "h1 = \"#Australia\"\n",
        "h2 = \"#Parliament\"\n",
        "h3 = \"#Party\"\n",
        "h4 = \"#Government\"\n",
        "h5 = \"Democracy\"\n",
        "h6 = \"#AustralianPolitics\"  #common abreviation for Australian politics found when looking at the tweets\n",
        "h7 = \"#ElectionNight\"\n",
        "h8 = \"#PrimeMinister\"\n",
        "h9 =  \"#CampaignPromise\"\n",
        "h10 = \"#ClimateChange\"\n",
        "hashtags = [h1,h2,h3,h4,h5,h6,h7,h8,h9,h10]\n",
        "import re\n",
        "def rep(m):\n",
        "    s=m.group(1)\n",
        "    return ' '.join(re.split(r'(?=[A-Z])', s))\n",
        "\n",
        "for a in range(0,len(hashtags)) :\n",
        "    hashtags[a] = re.sub(r'#(\\w+)', rep, hashtags[a])\n",
        "print(hashtags)"
      ],
      "metadata": {
        "colab": {
          "base_uri": "https://localhost:8080/"
        },
        "id": "Z0-gUPKqUjxF",
        "outputId": "b8db9afe-aa2e-45a8-9065-65ef84fc9799"
      },
      "execution_count": 23,
      "outputs": [
        {
          "output_type": "stream",
          "name": "stdout",
          "text": [
            "[' Australia', ' Parliament', ' Party', ' Government', 'Democracy', ' Australian Politics', ' Election Night', ' Prime Minister', ' Campaign Promise', ' Climate Change']\n"
          ]
        }
      ]
    },
    {
      "cell_type": "markdown",
      "source": [
        "these are the hashtags and in this they are if having two words have a space added."
      ],
      "metadata": {
        "id": "LCfcWxJwPCUy"
      }
    },
    {
      "cell_type": "code",
      "source": [
        "bow_transformed_corpus = []\n",
        "\n",
        "for sentence in corpus:\n",
        "  transformed_vector = vectorizer.transform([sentence])\n",
        "  bow_transformed_corpus.append(transformed_vector.toarray()[0])\n",
        "\n",
        "qs = []\n",
        "for a in hashtags :\n",
        "    tv = vectorizer.transform([a])\n",
        "    qs.append(tv.toarray()[0])\n",
        "    print(tv.toarray()[0])\n",
        "\n",
        "\n",
        "# sanity check : print a few items from the bow_transformed_corpus and bow_transformed_query\n",
        "\n",
        "print()\n",
        "print(qs)"
      ],
      "metadata": {
        "id": "h1WdiLGXrt76",
        "colab": {
          "base_uri": "https://localhost:8080/"
        },
        "outputId": "0b131589-f77c-4dd7-902c-b35cc9e19a1f"
      },
      "execution_count": 70,
      "outputs": [
        {
          "output_type": "stream",
          "name": "stdout",
          "text": [
            "[0 0 0 ... 0 0 0]\n",
            "[0 0 0 ... 0 0 0]\n",
            "[0 0 0 ... 0 0 0]\n",
            "[0 0 0 ... 0 0 0]\n",
            "[0 0 0 ... 0 0 0]\n",
            "[0 0 0 ... 0 0 0]\n",
            "[0 0 0 ... 0 0 0]\n",
            "[0 0 0 ... 0 0 0]\n",
            "[0 0 0 ... 0 0 0]\n",
            "[0 0 0 ... 0 0 0]\n",
            "\n",
            "[array([0, 0, 0, ..., 0, 0, 0]), array([0, 0, 0, ..., 0, 0, 0]), array([0, 0, 0, ..., 0, 0, 0]), array([0, 0, 0, ..., 0, 0, 0]), array([0, 0, 0, ..., 0, 0, 0]), array([0, 0, 0, ..., 0, 0, 0]), array([0, 0, 0, ..., 0, 0, 0]), array([0, 0, 0, ..., 0, 0, 0]), array([0, 0, 0, ..., 0, 0, 0]), array([0, 0, 0, ..., 0, 0, 0])]\n"
          ]
        }
      ]
    },
    {
      "cell_type": "code",
      "source": [
        "print(qs[0])"
      ],
      "metadata": {
        "id": "5f6EWi9jwP0K",
        "colab": {
          "base_uri": "https://localhost:8080/"
        },
        "outputId": "2bb7f383-bcc1-49e3-f0a2-7dbd9ed6c755"
      },
      "execution_count": 110,
      "outputs": [
        {
          "output_type": "stream",
          "name": "stdout",
          "text": [
            "[0 0 0 ... 0 0 0]\n"
          ]
        }
      ]
    },
    {
      "cell_type": "code",
      "source": [
        "import numpy as np\n",
        "if np.array_equal(qs[1], qs[0]):\n",
        "    print(\"yes\")\n",
        "else :\n",
        "    print(\"no\")\n"
      ],
      "metadata": {
        "colab": {
          "base_uri": "https://localhost:8080/"
        },
        "id": "Il2U9Kaj6cQG",
        "outputId": "96743f97-4206-4601-b4f9-8436eab80b51"
      },
      "execution_count": 56,
      "outputs": [
        {
          "output_type": "stream",
          "name": "stdout",
          "text": [
            "no\n"
          ]
        }
      ]
    },
    {
      "cell_type": "markdown",
      "source": [
        "this is just to check to verify if the query vectors are the exact same or not"
      ],
      "metadata": {
        "id": "DoqaDYVXDBBJ"
      }
    },
    {
      "cell_type": "code",
      "source": [
        "import numpy as np\n",
        "def euclidean_distance_based_similarity (vector1, vector2):\n",
        "    \"\"\"\n",
        "    Compute the Euclidean distance between two vectors.\n",
        "\n",
        "    Parameters:\n",
        "        vector1 (array-like): First vector.\n",
        "        vector2 (array-like): Second vector.\n",
        "\n",
        "    Returns:\n",
        "        float: Euclidean distance between the two vectors.\n",
        "    \"\"\"\n",
        "    return 1 / (np.linalg.norm(np.array(vector1) - np.array(vector2)))\n",
        "\n",
        "\n",
        "similarity_scores = {}\n",
        "\n",
        "\n",
        "\n",
        "\n",
        "all_query_results = {}\n",
        "\n",
        "\n",
        "\n"
      ],
      "metadata": {
        "id": "XLRBt6OhtWv1"
      },
      "execution_count": 27,
      "outputs": []
    },
    {
      "cell_type": "code",
      "source": [
        "def sims(j) :\n",
        "    query_vector = qs[j]\n",
        "    similarity_scores = {}\n",
        "    for i, document_vector in enumerate(bow_transformed_corpus):\n",
        "        sim = euclidean_distance_based_similarity(document_vector, query_vector)\n",
        "        similarity_scores[i] = sim\n",
        "    ranked_documents = sorted(similarity_scores.items(),key = lambda x: x[1] ,reverse = True)\n",
        "\n",
        "\n",
        "    print (f\"Query:{hashtags[j]} \")\n",
        "    for document_idx, score in ranked_documents[:10]:\n",
        "      print (f\"Document: {corpus[document_idx]}, Score: {score}\")\n",
        "for i in range(0,len(qs)) :\n",
        "    print(sims(i))"
      ],
      "metadata": {
        "colab": {
          "base_uri": "https://localhost:8080/"
        },
        "id": "I1LCF60rn716",
        "outputId": "1ace82f6-4155-438e-98b5-2b883a248977"
      },
      "execution_count": 71,
      "outputs": [
        {
          "output_type": "stream",
          "name": "stdout",
          "text": [
            "Query: Australia \n",
            "Document: , Score: 1.0\n",
            "Document: , Score: 1.0\n",
            "Document: idiot auspol, Score: 0.5773502691896258\n",
            "Document:        it begin        auspol, Score: 0.5\n",
            "Document: ffs straya auspol, Score: 0.5\n",
            "Document: hahahahahaha aus votes, Score: 0.5\n",
            "Document:                       https://t.co/wtwp2gujzr                                                                          , Score: 0.5\n",
            "Document: @vanonselenp australia have lose the election ., Score: 0.4472135954999579\n",
            "Document: chisholm to labor auspol, Score: 0.4472135954999579\n",
            "Document: auspol https://t.co/0q6k4qvzcl, Score: 0.4472135954999579\n",
            "None\n",
            "Query: Parliament \n",
            "Document: , Score: 1.0\n",
            "Document: , Score: 1.0\n",
            "Document: idiot auspol, Score: 0.5773502691896258\n",
            "Document:        it begin        auspol, Score: 0.5\n",
            "Document: ffs straya auspol, Score: 0.5\n",
            "Document: hahahahahaha aus votes, Score: 0.5\n",
            "Document:                       https://t.co/wtwp2gujzr                                                                          , Score: 0.5\n",
            "Document: chisholm to labor auspol, Score: 0.4472135954999579\n",
            "Document: auspol https://t.co/0q6k4qvzcl, Score: 0.4472135954999579\n",
            "Document: australiavote https://t.co/6rxhcywx8 g, Score: 0.4472135954999579\n",
            "None\n",
            "Query: Party \n",
            "Document: , Score: 1.0\n",
            "Document: , Score: 1.0\n",
            "Document: idiot auspol, Score: 0.5773502691896258\n",
            "Document:        it begin        auspol, Score: 0.5\n",
            "Document: ffs straya auspol, Score: 0.5\n",
            "Document: hahahahahaha aus votes, Score: 0.5\n",
            "Document:                       https://t.co/wtwp2gujzr                                                                          , Score: 0.5\n",
            "Document: chisholm to labor auspol, Score: 0.4472135954999579\n",
            "Document: auspol https://t.co/0q6k4qvzcl, Score: 0.4472135954999579\n",
            "Document: australiavote https://t.co/6rxhcywx8 g, Score: 0.4472135954999579\n",
            "None\n",
            "Query: Government \n",
            "Document: , Score: 1.0\n",
            "Document: , Score: 1.0\n",
            "Document: idiot auspol, Score: 0.5773502691896258\n",
            "Document:        it begin        auspol, Score: 0.5\n",
            "Document: ffs straya auspol, Score: 0.5\n",
            "Document: hahahahahaha aus votes, Score: 0.5\n",
            "Document:                       https://t.co/wtwp2gujzr                                                                          , Score: 0.5\n",
            "Document: chisholm to labor auspol, Score: 0.4472135954999579\n",
            "Document: auspol https://t.co/0q6k4qvzcl, Score: 0.4472135954999579\n",
            "Document: australiavote https://t.co/6rxhcywx8 g, Score: 0.4472135954999579\n",
            "None\n",
            "Query:Democracy \n",
            "Document: , Score: 1.0\n",
            "Document: , Score: 1.0\n",
            "Document: idiot auspol, Score: 0.5773502691896258\n",
            "Document:        it begin        auspol, Score: 0.5\n",
            "Document: ffs straya auspol, Score: 0.5\n",
            "Document: hahahahahaha aus votes, Score: 0.5\n",
            "Document:                       https://t.co/wtwp2gujzr                                                                          , Score: 0.5\n",
            "Document: chisholm to labor auspol, Score: 0.4472135954999579\n",
            "Document: democracy achieve !    # auspol https://t.co/h1zxlcuux7, Score: 0.4472135954999579\n",
            "Document: auspol https://t.co/0q6k4qvzcl, Score: 0.4472135954999579\n",
            "None\n",
            "Query: Australian Politics \n",
            "Document: , Score: 0.7071067811865475\n",
            "Document: , Score: 0.7071067811865475\n",
            "Document: idiot auspol, Score: 0.5\n",
            "Document:        it begin        auspol, Score: 0.4472135954999579\n",
            "Document: ffs straya auspol, Score: 0.4472135954999579\n",
            "Document: hahahahahaha aus votes, Score: 0.4472135954999579\n",
            "Document:                       https://t.co/wtwp2gujzr                                                                          , Score: 0.4472135954999579\n",
            "Document: chisholm to labor auspol, Score: 0.4082482904638631\n",
            "Document: auspol https://t.co/0q6k4qvzcl, Score: 0.4082482904638631\n",
            "Document: australiavote https://t.co/6rxhcywx8 g, Score: 0.4082482904638631\n",
            "None\n",
            "Query: Election Night \n",
            "Document: , Score: 0.7071067811865475\n",
            "Document: , Score: 0.7071067811865475\n",
            "Document: idiot auspol, Score: 0.5\n",
            "Document:        it begin        auspol, Score: 0.4472135954999579\n",
            "Document: ffs straya auspol, Score: 0.4472135954999579\n",
            "Document: hahahahahaha aus votes, Score: 0.4472135954999579\n",
            "Document:                       https://t.co/wtwp2gujzr                                                                          , Score: 0.4472135954999579\n",
            "Document: @vanonselenp australia have lose the election ., Score: 0.4082482904638631\n",
            "Document: chisholm to labor auspol, Score: 0.4082482904638631\n",
            "Document: auspol https://t.co/0q6k4qvzcl, Score: 0.4082482904638631\n",
            "None\n",
            "Query: Prime Minister \n",
            "Document: , Score: 0.7071067811865475\n",
            "Document: , Score: 0.7071067811865475\n",
            "Document: idiot auspol, Score: 0.5\n",
            "Document:        it begin        auspol, Score: 0.4472135954999579\n",
            "Document: ffs straya auspol, Score: 0.4472135954999579\n",
            "Document: hahahahahaha aus votes, Score: 0.4472135954999579\n",
            "Document:                       https://t.co/wtwp2gujzr                                                                          , Score: 0.4472135954999579\n",
            "Document: chisholm to labor auspol, Score: 0.4082482904638631\n",
            "Document: auspol https://t.co/0q6k4qvzcl, Score: 0.4082482904638631\n",
            "Document: australiavote https://t.co/6rxhcywx8 g, Score: 0.4082482904638631\n",
            "None\n",
            "Query: Campaign Promise \n",
            "Document: , Score: 0.7071067811865475\n",
            "Document: , Score: 0.7071067811865475\n",
            "Document: idiot auspol, Score: 0.5\n",
            "Document:        it begin        auspol, Score: 0.4472135954999579\n",
            "Document: ffs straya auspol, Score: 0.4472135954999579\n",
            "Document: hahahahahaha aus votes, Score: 0.4472135954999579\n",
            "Document:                       https://t.co/wtwp2gujzr                                                                          , Score: 0.4472135954999579\n",
            "Document: chisholm to labor auspol, Score: 0.4082482904638631\n",
            "Document: auspol https://t.co/0q6k4qvzcl, Score: 0.4082482904638631\n",
            "Document: australiavote https://t.co/6rxhcywx8 g, Score: 0.4082482904638631\n",
            "None\n",
            "Query: Climate Change \n",
            "Document: , Score: 0.7071067811865475\n",
            "Document: , Score: 0.7071067811865475\n",
            "Document: idiot auspol, Score: 0.5\n",
            "Document:        it begin        auspol, Score: 0.4472135954999579\n",
            "Document: ffs straya auspol, Score: 0.4472135954999579\n",
            "Document: hahahahahaha aus votes, Score: 0.4472135954999579\n",
            "Document:                       https://t.co/wtwp2gujzr                                                                          , Score: 0.4472135954999579\n",
            "Document: chisholm to labor auspol, Score: 0.4082482904638631\n",
            "Document: auspol https://t.co/0q6k4qvzcl, Score: 0.4082482904638631\n",
            "Document: australiavote https://t.co/6rxhcywx8 g, Score: 0.4082482904638631\n",
            "None\n"
          ]
        }
      ]
    },
    {
      "cell_type": "markdown",
      "source": [
        "observations :\n",
        "\n",
        "The results were far too similar, they were not the exact same which is somewhat encouraging in the sense that there is no error causing the ranked documents to be the exact same for all queries but the difference is negligble as the scores for some not all were slightly different but the tweets were the exact same. For example, climate change has the exact same results as campaign promise, which does not make sense, and the results are the same for the other hashtags."
      ],
      "metadata": {
        "id": "9vKtKLgKCqf8"
      }
    },
    {
      "cell_type": "code",
      "source": [],
      "metadata": {
        "id": "fjhK9HC7dPS2"
      },
      "execution_count": null,
      "outputs": []
    },
    {
      "cell_type": "code",
      "source": [
        "from sklearn.feature_extraction.text import CountVectorizer, TfidfVectorizer\n",
        "\n",
        "# Define the N for N-grams\n",
        "N = 1  # Change this to the desired value for N-grams\n",
        "\n",
        "# Initialize the CountVectorizer with N-gram range\n",
        "vectorizer = TfidfVectorizer(ngram_range=(N, N), lowercase = True, binary = False)\n",
        "\n",
        "# Fit and transform the corpus\n",
        "vectorizer.fit(corpus)\n",
        "\n",
        "# Check a few items in the vocabulary\n",
        "vocab = vectorizer.get_feature_names_out()"
      ],
      "metadata": {
        "id": "UsYoGi4XyxuG"
      },
      "execution_count": 72,
      "outputs": []
    },
    {
      "cell_type": "markdown",
      "source": [
        "This is initializing the TfIDF vectorizor. It is in lower to ensure the hashtags can get read."
      ],
      "metadata": {
        "id": "VLgwPxqkOsaD"
      }
    },
    {
      "cell_type": "code",
      "source": [
        "bow_transformed_corpus = []\n",
        "\n",
        "for sentence in corpus:\n",
        "  transformed_vector = vectorizer.transform([sentence])\n",
        "  bow_transformed_corpus.append(transformed_vector.toarray()[0])\n",
        "\n",
        "qs = []\n",
        "for a in hashtags :\n",
        "    qs.append(vectorizer.transform([a]).toarray()[0])\n",
        "\n",
        "\n",
        "print (\"Transformed Corpus Samples\", bow_transformed_corpus[:5])\n",
        "print(qs)"
      ],
      "metadata": {
        "id": "Nd7UffGhzJGf",
        "colab": {
          "base_uri": "https://localhost:8080/"
        },
        "outputId": "162d876e-a545-47db-d06d-c3d1b04ea6d1"
      },
      "execution_count": 74,
      "outputs": [
        {
          "output_type": "stream",
          "name": "stdout",
          "text": [
            "Transformed Corpus Samples [array([0., 0., 0., ..., 0., 0., 0.]), array([0., 0., 0., ..., 0., 0., 0.]), array([0., 0., 0., ..., 0., 0., 0.]), array([0., 0., 0., ..., 0., 0., 0.]), array([0., 0., 0., ..., 0., 0., 0.])]\n",
            "[array([0., 0., 0., ..., 0., 0., 0.]), array([0., 0., 0., ..., 0., 0., 0.]), array([0., 0., 0., ..., 0., 0., 0.]), array([0., 0., 0., ..., 0., 0., 0.]), array([0., 0., 0., ..., 0., 0., 0.]), array([0., 0., 0., ..., 0., 0., 0.]), array([0., 0., 0., ..., 0., 0., 0.]), array([0., 0., 0., ..., 0., 0., 0.]), array([0., 0., 0., ..., 0., 0., 0.]), array([0., 0., 0., ..., 0., 0., 0.])]\n"
          ]
        }
      ]
    },
    {
      "cell_type": "code",
      "source": [
        "import numpy as np\n",
        "if np.array_equal(qs[1], qs[0]):\n",
        "    print(\"yes\")\n",
        "else :\n",
        "    print(\"no\")"
      ],
      "metadata": {
        "colab": {
          "base_uri": "https://localhost:8080/"
        },
        "id": "oqc66UCDDuxk",
        "outputId": "e4fa3b63-d249-4bc6-ee43-39124ab5c890"
      },
      "execution_count": 45,
      "outputs": [
        {
          "output_type": "stream",
          "name": "stdout",
          "text": [
            "no\n"
          ]
        }
      ]
    },
    {
      "cell_type": "code",
      "source": [
        "def sims(j) :\n",
        "    query_vector = qs[j]\n",
        "    similarity_scores = {}\n",
        "    for i, document_vector in enumerate(bow_transformed_corpus):\n",
        "        sim = euclidean_distance_based_similarity(document_vector, query_vector)\n",
        "        similarity_scores[i] = sim\n",
        "    ranked_documents = sorted(similarity_scores.items(),key = lambda x: x[1] ,reverse = True)\n",
        "\n",
        "\n",
        "    print (f\"Query:{hashtags[j]} \")\n",
        "    for document_idx, score in ranked_documents[:10]:\n",
        "      print (f\"Document: {corpus[document_idx]}, Score: {score}\")\n",
        "for i in range(0,len(qs)) :\n",
        "    print(sims(i))"
      ],
      "metadata": {
        "colab": {
          "base_uri": "https://localhost:8080/"
        },
        "id": "cgIf3GSLAwY9",
        "outputId": "795359e7-0a32-43b0-8ae9-d65fee8f6ced"
      },
      "execution_count": 75,
      "outputs": [
        {
          "output_type": "stream",
          "name": "stdout",
          "text": [
            "Query: Australia \n",
            "Document: , Score: 1.0\n",
            "Document: , Score: 1.0\n",
            "Document: @lydiajmeredith and australia can a vote be swe to australia, Score: 0.9061274187321869\n",
            "Document: c m n now | australia the govern coalition in australia appear set for a surprise victory in a close - fight election . australia decide aus votes2019 @scottmorrisonmp, Score: 0.8781053369748851\n",
            "Document: meanwhile in australia ausvotes australia decide election2019 result https://t.co/cidsvuhm6v, Score: 0.8728275261897526\n",
            "Document: live election result australia 2019 : track the vote | australia news | the guardian https://t.co/bd46azpmpn, Score: 0.8499939147311432\n",
            "Document: @vanonselenp australia have lose the election ., Score: 0.830843062018672\n",
            "Document: look , I know the racist of australia be spoil for choice at the auspol poll but the   love australia or leave   party s icon just be an outline of australia with the word full inside it be fuck hilarious, Score: 0.8257174215506815\n",
            "Document: whatever happen in australia tonight , it will be a well country without tony abbott in parliament australiavotes2019 a u s vote19 australia decide, Score: 0.8209690271373422\n",
            "Document: @knarfnamduh but ask morrison or barnaby joyce and they will tell you australia can only be part of a \" global solution \" . the lnp 's vision for australia , or should I say \" promise of australia \" be that we be insignificant and second rate to the rest of the world . vote they out ., Score: 0.8058089947960603\n",
            "None\n",
            "Query: Parliament \n",
            "Document: , Score: 1.0\n",
            "Document: , Score: 1.0\n",
            "Document: whatever happen in australia tonight , it will be a well country without tony abbott in parliament australiavotes2019 a u s vote19 australia decide, Score: 0.8347014020438972\n",
            "Document: break : former prime minister @tonyabbottmhr have lose his seat of warringah after 25 year in parliament and public life . ausvotes n e w s https://t.co/ckeiiisica, Score: 0.8174026221882986\n",
            "Document: @albericie clive palmer will not be in parliament , but @liberalaus well change the rule so he will become \" destruction of the environment \" minister ? auspol, Score: 0.813754728253823\n",
            "Document: australia , use your vote wisely ! do not cast your valuable vote for politician who fraudulently enter the parliament in the first place . do not do the same mistake on this election . make it right this time ! auspol ausvote ausvotes2019, Score: 0.7849410443557185\n",
            "Document: final pre - election comment from ai group chief executive , inne willox : productivity plan should be first priority for the next parliament . full statement here : https://t.co/7kvy2sabzm ausbiz auspol aus votes2019, Score: 0.7829100181752174\n",
            "Document: negative lie , rubbish and trash ... yep that about sum up the national in cowper vote why the hell would anyone vote for they ? good luck @roboakeshott1 really want to see you back in parliament auspol aus votes2019 https://t.co/w0v8uge2gh, Score: 0.782139224547537\n",
            "Document: the result thus far be an indictment on @billshortenmp - my cat could have lead labor to majority government after what have happen in this term of parliament . he may yet become pm , but good on australia for see through his self - interest garbage . ausvote, Score: 0.7803357317194467\n",
            "Document: federal election 2019 : do clive palmer s $ 70 m cash splash pay off for united australia party ? perth : big - spend clive palmer have spare no expense this election try to buy a seat in parliament .... https://t.co/qjw3fow9eo https://t.co/0ie0pcrbvf, Score: 0.7759933541881213\n",
            "None\n",
            "Query: Party \n",
            "Document: , Score: 1.0\n",
            "Document: , Score: 1.0\n",
            "Document: how do fraser anne s party place above several other party on the ballot paper ?       auspol2019 a u s vote19 auspol, Score: 0.8856748899994463\n",
            "Document: federal election 2019 : scott morrison launch liberal party campaign    politic live https://t.co/tkokjjwzdv suppose you give a party and nobody come ... auspol ausvote, Score: 0.880473089256951\n",
            "Document: minor party when I be a kid now dead , australian against further immigration , the australian democrat , the necular disarmament party auspol, Score: 0.8586332023083395\n",
            "Document: nsw do not have a labor leader , and now neither do the federal party ... auspol, Score: 0.8188867760774613\n",
            "Document: congrat to scott morrison and the liberal national party on a stunning election win .... ausvote, Score: 0.8186633992479773\n",
            "Document: coalition after party at engadine maccas myliberal ausvote, Score: 0.8175044353274526\n",
            "Document: oz elector : please send the strong message to the parliamentary and organisational wing of the liberal party of australia at 2019 election : rupert murdoch , their party s sponsor / puppet master , do not own / run this country : you do . https://t.co/fdyekdof1a, Score: 0.8127192573297816\n",
            "Document: wait for the allegation of russian collusion from the labor party .. ausvote  , Score: 0.8111044832746943\n",
            "None\n",
            "Query: Government \n",
            "Document: , Score: 1.0\n",
            "Document: , Score: 1.0\n",
            "Document: australia 's conservative government revel in ' miracle ' re - election https://t.co/rn5cgeaoku, Score: 0.8408601675301703\n",
            "Document: another catastrophic policy fail under the current government . https://t.co/dhfi73vhdq auspol, Score: 0.8265266908689956\n",
            "Document: australia 's conservative government revel in ' miracle ' re - election - https://t.co/pwr6htqbsz @techjollof, Score: 0.8244779186626267\n",
            "Document: \" bravery , honesty and vision be need of the next australian government . \" auspol https://t.co/lcqyhyj3kf, Score: 0.8235348292169321\n",
            "Document: @peterdutton_mp here be a quick review of the high taxing government , you may be surprised to see liberal government top the list . dutton once again spread falsehood . dickson can do so much well than dutton . dickson votes auspol aus votes https://t.co/gqubtslimp, Score: 0.8186616909060836\n",
            "Document: holy fk @antonygreenabc can t see labor form government . this be completely unexpected auspol, Score: 0.8164268386511135\n",
            "Document: corruption . wake up australia . this government have go full klepto ! ! ! ! ! auspol aus votes2019 ausvote https://t.co/mjlp5xj8er, Score: 0.8157290290421002\n",
            "Document: please western australia save we from this horrible government : they ( and murdoch ! ) do not deserve to win . ausvote, Score: 0.8116375719669441\n",
            "None\n",
            "Query:Democracy \n",
            "Document: , Score: 1.0\n",
            "Document: , Score: 1.0\n",
            "Document: solidarity ( & amp ; democracy sausage ) forever ! ausvote big step n o w ozearlyed democracy sausage, Score: 0.9703253319473882\n",
            "Document: democracy achieve !    # auspol https://t.co/h1zxlcuux7, Score: 0.9353210016328284\n",
            "Document: @ australian democracy auspol auspol2019 ausvote https://t.co/qdf2gakszw, Score: 0.9267337092567798\n",
            "Document: and this aus vote democracy sausage emoji be everything  , Score: 0.8911353790080117\n",
            "Document: happy democracy sausage day straya ! aus votes auspol, Score: 0.8863451646470681\n",
            "Document: look like he need a democracy sausage ausvote https://t.co/zcjngrzb2j, Score: 0.8826753684217844\n",
            "Document: also here be kingsley after enjoy his democracy sausage he eat too fast to get a good pic democracy dog auspol dog at polling station https://t.co/q7kkafskan, Score: 0.8753286812880908\n",
            "Document: australia election : fine , donkey vote and democracy sausage https://t.co/luannyq0au, Score: 0.8577461069467102\n",
            "None\n",
            "Query: Australian Politics \n",
            "Document: , Score: 1.0\n",
            "Document: , Score: 1.0\n",
            "Document: that be hawke moment after we win the america s cup ... forever a man of the people , will be remember by many from all side of politics auspol ausvote https://t.co/ibsws5xwno, Score: 0.8101450701466347\n",
            "Document: vote u.a.g.p heck the rest . australia politics politicalmemes gamer gamermeme tasmania vote liberal liberalmeme primeminist election labour labourmeme green greensmeme onenation @scottmorrisonmp @billshortenmp @senatorpaulinehanson https://t.co/rci7qpffjv, Score: 0.7871350173430458\n",
            "Document: take a deep breath ... air pollution may damage ' every organ in the body ' -- https://t.co/avyfopebin https://t.co/dglylurccf think provoke news . nwo , r we cracker the people news auspol climatechange politics election @sottnet, Score: 0.7819795994183157\n",
            "Document: @ australian democracy auspol auspol2019 ausvote https://t.co/qdf2gakszw, Score: 0.7738558154410528\n",
            "Document: minor party when I be a kid now dead , australian against further immigration , the australian democrat , the necular disarmament party auspol, Score: 0.7707672022381561\n",
            "Document: vale bob hawke . a true giant in australian politic @australianlabor auspol, Score: 0.7571473938170183\n",
            "Document: ahead of the upcoming australian federal election , edl ceo james harman @jamesha54369756 share his outlook on energypolicy with @questevents_aus australian energy week ausvotes19 aus votes2019 auspol https://t.co/9ugbasjdga https://t.co/azvqxzbzax, Score: 0.7564233454004218\n",
            "Document: morrison claim coalition election win for ' the quiet australian '    as it happen https://t.co/oziol2ofpr, Score: 0.7530006456775225\n",
            "None\n",
            "Query: Election Night \n",
            "Document: , Score: 1.0000000000000002\n",
            "Document: , Score: 1.0000000000000002\n",
            "Document: australia 's 2019 federal election night    in picture https://t.co/uzcvtngbws, Score: 0.9408128101084262\n",
            "Document: quote of the night about morrison auspol https://t.co/m0ryk6gxf6, Score: 0.8890800724341729\n",
            "Document: I be call an early win for the goulash I make for election night dinner . ausvote, Score: 0.8844426313033141\n",
            "Document: let the election night bingo commence ! a u s vote19 australiavotes2019 auspol democracysausage https://t.co/kjfn6i554k, Score: 0.8757162006494067\n",
            "Document: the far - left lose an   unlosable   national election in australia last night and it s glorious by - https://t.co/odx0db1jel https://t.co/17vlcedoc4, Score: 0.8369943299248163\n",
            "Document: @zippuli @kevinbonham I get one last night it ask I which issue will determine my vote . five choices- not one of they have to do with climate change . I hang up . auspol ausvote, Score: 0.7854884915009149\n",
            "Document: on thursday night , I ll be @imprints_books in adelaide with @alexanderdowner discuss robert menzie   life and legacy , the art of politic and what today s politician can learn from he - all be welcome ! auspol ausvotes @scribe https://t.co/ckggdp6mc9, Score: 0.7699607656884337\n",
            "Document: I be just devastate for tafe and everyone who use centrelink . also everyone who want the environment not to die and then kill we . but , I be slowly find a few positive out of last night . abbott lose . anning be go . labor will try a new leader . anyone else ? auspol, Score: 0.7628473224670539\n",
            "None\n",
            "Query: Prime Minister \n",
            "Document: , Score: 1.0000000000000002\n",
            "Document: , Score: 1.0000000000000002\n",
            "Document: australia election : prime minister scott morrison seize a stunning win https://t.co/dz1nigutbe, Score: 0.9356096996215173\n",
            "Document: australia 's most trust politician be new zealand 's prime minister https://t.co/sicmzme8ed, Score: 0.9197450093788738\n",
            "Document: vote for australia eurovision - we get a shit prime minister at least let we win a song contest haha, Score: 0.8723623463040392\n",
            "Document: yay election day , can not wait to see how kany prime minister we get before the next election ... smh auspol ausvote, Score: 0.8680065881473545\n",
            "Document: the prime minister @scottmorrisonmp get a round of applause after give the shire a shout out ausvote https://t.co/zin1bbdozy, Score: 0.8608018314961903\n",
            "Document: break : former prime minister @tonyabbottmhr have lose his seat of warringah after 25 year in parliament and public life . ausvotes n e w s https://t.co/ckeiiisica, Score: 0.8491549083211387\n",
            "Document: my favourite photo of a truly genuine man & amp ; australian prime minister bob hawke r.i.p you will be miss . aus pol https://t.co/9qomx7qlov, Score: 0.8460475211179351\n",
            "Document: the murdoch country be increasingly problematic : australia election result : prime minister scott morrison seize a stunning win - the new york times https://t.co/np8uxs6h7r, Score: 0.83896146648777\n",
            "None\n",
            "Query: Campaign Promise \n",
            "Document: , Score: 1.0\n",
            "Document: , Score: 1.0\n",
            "Document: do not be fool by what the lnp be offer . they renegge on campaign promise before - they will do it again . ausvotes auspol aus votes2019 campaign aus votes19 https://t.co/rvzgbmjrlo, Score: 0.9159306130195196\n",
            "Document: what be this so - call   promise of australia   and how much be it go to cost to keep it to all australian ? auspol ausvotes https://t.co/ar8lxeihq9, Score: 0.8168056498879003\n",
            "Document: .@barnaby_joyce say \" dopey \" campaign organisation getup have waste its resource campaign against the national , who be poll well.#ausvotes n e w s https://t.co/bjswlawehp, Score: 0.7943538701287007\n",
            "Document: australia election : the campaign with cash to splash https://t.co/kbeussgqvt, Score: 0.7808251657876518\n",
            "Document: too many fed campaign on local issue . all go ausvote aus votes2019 auspol, Score: 0.7709944823620515\n",
            "Document: remember that plan the lib claim they have ? whatever it be we be not do very good be we and they offer \" the promise of australia \" if you actually vote for lnp this election I bet it be the last time ever , some of you be a bit slow but most have give up on they auspol, Score: 0.7691586299033546\n",
            "Document: @knarfnamduh but ask morrison or barnaby joyce and they will tell you australia can only be part of a \" global solution \" . the lnp 's vision for australia , or should I say \" promise of australia \" be that we be insignificant and second rate to the rest of the world . vote they out ., Score: 0.7689671334537959\n",
            "Document: great campaign from fiona mcleod @laborforhiggins auspol https://t.co/utycdqy1um, Score: 0.7672085529327847\n",
            "None\n",
            "Query: Climate Change \n",
            "Document: , Score: 1.0\n",
            "Document: , Score: 1.0\n",
            "Document: do your research and vote may 18 . this be the climate change election so there be more than just our own country hang in the balance . abc have this handy guide here : https://t.co/veyyx5t0hc ausvote auspol climate election aus votes2019 change politic climate action now, Score: 0.9583789961062239\n",
            "Document: what be the party offer to combat climate change ? by @nicole_hasham https://t.co/mfy8lo3i3w aus votes aus votes2019 climate election, Score: 0.9299876837152871\n",
            "Document: .@richaferguson on the importance of climate change in the federal election :   I think climate change have be a net positive for @australianlabor , despite the question around the cost .   more : https://t.co/gusaoalye1 aus votes2019 auspol https://t.co/6kcxceorr, Score: 0.9230424851012288\n",
            "Document: how concern about climate change could decide australia 's election https://t.co/yfef81gkvr https://t.co/5jfnda5eno, Score: 0.8720992557336877\n",
            "Document: federal election 2019 : labor to help council combat climate change australiavotes2019 https://t.co/3v8lrzogrn, Score: 0.8646866709773735\n",
            "Document: climate change to be decisive issue in australian election energy and global warming debate have dominate australia 's election campaign , with many voter call for change . auspol ausvotes aus votes19 auspol19 auspol2019 aus votes2019 australia australiavotes2019 https://t.co/zh50qlfnm7, Score: 0.8525372630427971\n",
            "Document: good morning . if climate change might determine your vote , there be a summary of the party policy here . https://t.co/vwsfkslsug if you do not , then you might not have understand the climate emergency !, Score: 0.8480264977612687\n",
            "Document: do abbott just admit that the lnp have no moral when it come to climate change ? @tonyabbottmhr ausvote byetony, Score: 0.84712730072492\n",
            "None\n"
          ]
        }
      ]
    },
    {
      "cell_type": "markdown",
      "source": [
        "results here were better, they were not the exact same, there were different results which is an improvement from using the Bag of Words method. This method got different search results and the results are also related to the hashtag. This is a massive improvement from the first."
      ],
      "metadata": {
        "id": "snlUaGecECR-"
      }
    },
    {
      "cell_type": "code",
      "source": [
        "from gensim.models import KeyedVectors  # task3\n",
        "import gensim.downloader as api\n",
        "import numpy as np\n",
        "\n",
        "# Load pre-trained GloVe embeddings\n",
        "word_vectors = api.load(\"glove-wiki-gigaword-50\")\n",
        "\n",
        "# Function to generate average word vectors for a sentence\n",
        "def average_word_embeddings(sentence):\n",
        "    words = sentence.split()\n",
        "    embeddings = []\n",
        "    for word in words:\n",
        "        if word in word_vectors:\n",
        "            embeddings.append(word_vectors[word])\n",
        "    if len(embeddings) > 0:\n",
        "        # is word vector exists for the word\n",
        "        return np.mean(embeddings, axis=0)\n",
        "    else:\n",
        "        return np.zeros(word_vectors.vector_size)"
      ],
      "metadata": {
        "id": "HCwiLNrxzAFB"
      },
      "execution_count": 61,
      "outputs": []
    },
    {
      "cell_type": "code",
      "source": [
        "def giga50(n):\n",
        "    word_vector_transformed_corpus = []\n",
        "\n",
        "    for sentence in corpus:\n",
        "        transformed_vector = average_word_embeddings(sentence)\n",
        "        word_vector_transformed_corpus.append(transformed_vector)\n",
        "\n",
        "    word_vector_transformed_query = average_word_embeddings(hashtags[n].lower())\n",
        "\n",
        "\n",
        "\n",
        "    word_vector_based_similarity_scores = {}\n",
        "\n",
        "    for i, vector in enumerate(word_vector_transformed_corpus):\n",
        "        sim = euclidean_distance_based_similarity(vector, word_vector_transformed_query)\n",
        "        word_vector_based_similarity_scores[i] = sim\n",
        "\n",
        "    ranked_documents = sorted(word_vector_based_similarity_scores.items(), key=lambda x: x[1], reverse=True)\n",
        "\n",
        "\n",
        "\n",
        "    print(f\"Query: {hashtags[n]}\")\n",
        "    for document_idx, score in ranked_documents[:10]:\n",
        "        print(f\"Document: {corpus[document_idx]}, Score: {score}\")\n",
        "\n",
        "\n",
        "\n",
        "\n",
        "for i in range(1,len(hashtags)) :\n",
        "    print(giga50(i))"
      ],
      "metadata": {
        "colab": {
          "base_uri": "https://localhost:8080/"
        },
        "id": "YocBgLYC0y6j",
        "outputId": "6726c4e3-ee2a-4571-a30b-4006a40c32e1"
      },
      "execution_count": 79,
      "outputs": [
        {
          "output_type": "stream",
          "name": "stdout",
          "text": [
            "Query:  Parliament\n",
            "Document: vote labor auspol ausvotes bill shorten vote for change https://t.co/eoggv1qy9w, Score: 0.1600116585642951\n",
            "Document: vote u.a.g.p heck the rest . australia politics politicalmemes gamer gamermeme tasmania vote liberal liberalmeme primeminist election labour labourmeme green greensmeme onenation @scottmorrisonmp @billshortenmp @senatorpaulinehanson https://t.co/rci7qpffjv, Score: 0.15959928490699735\n",
            "Document: australia 's conservative coalition poise to secure outright parliamentary majority - analyst https://t.co/xxzjcbvwnu https://t.co/hloqyepo5 g, Score: 0.15952470711804398\n",
            "Document: the guardian view on the australian election : vote on the climate emergency climate election auspol ausvote https://t.co/xulpjj1onb, Score: 0.1575696748221534\n",
            "Document: break : former prime minister @tonyabbottmhr have lose his seat of warringah after 25 year in parliament and public life . ausvotes n e w s https://t.co/ckeiiisica, Score: 0.1570899903850216\n",
            "Document: australia 's most trust politician be new zealand 's prime minister https://t.co/sicmzme8ed, Score: 0.1568118637784269\n",
            "Document: australia election : prime minister scott morrison seize a stunning win https://t.co/dz1nigutbe, Score: 0.1557284227807115\n",
            "Document: the guardian view on the australian election : vote on the climate emergency ausvote auspol https://t.co/yvuupbq6kp, Score: 0.15565040528516919\n",
            "Document: australia s rule coalition in shock election victory https://t.co/numf0oryf4, Score: 0.1553393800933939\n",
            "Document: australian voter reject opposition s progressive agenda on climate , tax https://t.co/j7ypdzxjph, Score: 0.15530689328227512\n",
            "None\n",
            "Query:  Party\n",
            "Document: coalition after party at engadine maccas myliberal ausvote, Score: 0.18776616185075848\n",
            "Document: voting be our superpower ! labour party liberalparty gymbus auspol19 auspol https://t.co/gvbckm3w0d, Score: 0.18489262546131643\n",
            "Document: congrat to scott morrison and the liberal national party on a stunning election win .... ausvote, Score: 0.17548437540792766\n",
            "Document: voter go to the poll in australia with opposition party tip to win https://t.co/lpxkdwbumw, Score: 0.17214623045549285\n",
            "Document: vote u.a.g.p heck the rest . australia politics politicalmemes gamer gamermeme tasmania vote liberal liberalmeme primeminist election labour labourmeme green greensmeme onenation @scottmorrisonmp @billshortenmp @senatorpaulinehanson https://t.co/rci7qpffjv, Score: 0.17052291285365795\n",
            "Document: minor party when I be a kid now dead , australian against further immigration , the australian democrat , the necular disarmament party auspol, Score: 0.1701866455932928\n",
            "Document: federal election 2019 : scott morrison launch liberal party campaign    politic live https://t.co/tkokjjwzdv suppose you give a party and nobody come ... auspol ausvote, Score: 0.16965394801911216\n",
            "Document: factory fire symptomatic of social devastation in calwell electorate by peter byrne , socialist equality party candidate for calwell https://t.co/qcdqyfoiy2 ausvote auspol https://t.co/p584jytpgz, Score: 0.16892876797426476\n",
            "Document: nsw do not have a labor leader , and now neither do the federal party ... auspol, Score: 0.1679861609301321\n",
            "Document: wait for the allegation of russian collusion from the labor party .. ausvote  , Score: 0.16769051484213365\n",
            "None\n",
            "Query:  Government\n",
            "Document: another catastrophic policy fail under the current government . https://t.co/dhfi73vhdq auspol, Score: 0.21374955179040242\n",
            "Document: coalition double all government debt since federation in just under six year https://t.co/d5o1kyowgh auspol, Score: 0.2086308412028482\n",
            "Document: nsw do not have a labor leader , and now neither do the federal party ... auspol, Score: 0.20134836983968185\n",
            "Document: australia 's most trust politician be new zealand 's prime minister https://t.co/sicmzme8ed, Score: 0.19954975627101745\n",
            "Document: the first exit poll of australia 's 2019 federal election project labor will form the next government which could mean the end of the monarchy down under . labor leader bill shorten want to ditch the queen and have an australian head of state instead with a vote as soon as 2021 ., Score: 0.19944682008090847\n",
            "Document: .@cpyne argue on @10newsfirst that libs could be head for majority government - not minority . extraordinary poll result ausvote auspol https://t.co/uskibfx6xv, Score: 0.19877596245804632\n",
            "Document: opposition leader @billshortenmp have concede defeat in the 2019 federal election and say he would not continue to lead the party . ausvotes n e w s https://t.co/8olcp3rjem, Score: 0.19705993232228963\n",
            "Document: wait for the allegation of russian collusion from the labor party .. ausvote  , Score: 0.19674801080318782\n",
            "Document: australian bank rally as conservative election win ease fear of new curb https://t.co/yqf3jcucmg https://t.co/bktjxqatel, Score: 0.19616247211528542\n",
            "Document: not satisfied with its high incarceration rate of indigenous woman the western australia police state be now use fake legislation to frighten citizen . auspol https://t.co/kfp6z4biym, Score: 0.1960934691207898\n",
            "None\n",
            "Query: Democracy\n",
            "Document: @ australian democracy auspol auspol2019 ausvote https://t.co/qdf2gakszw, Score: 0.17817398579876992\n",
            "Document: democracy achieve !    # auspol https://t.co/h1zxlcuux7, Score: 0.16889154614520302\n",
            "Document: look like he need a democracy sausage ausvote https://t.co/zcjngrzb2j, Score: 0.1588361283663415\n",
            "Document: and this aus vote democracy sausage emoji be everything  , Score: 0.15831647426607665\n",
            "Document: australia election : fine , donkey vote and democracy sausage https://t.co/luannyq0au, Score: 0.15739206516294715\n",
            "Document: solidarity ( & amp ; democracy sausage ) forever ! ausvote big step n o w ozearlyed democracy sausage, Score: 0.15441828875113744\n",
            "Document: boomer talk of economic fairness ; then quietly vote to preserve their post - war era economic loot . ominous . @brendancoate @inter_gen @gensqueeze @australiapm @georgemagnus1 @theeconomist @sensander @senatorwong @kenwyattmp auspol demographic age democracy, Score: 0.1543984844277186\n",
            "Document: well play camdenville public newtown . australiavotes2019 australia decide democracy sausage https://t.co/09cxo6rmrs, Score: 0.15385453986557596\n",
            "Document: happy democracy sausage day straya ! aus votes auspol, Score: 0.1536695714974084\n",
            "Document: for those interested in a sensible take on china u s politic and china s current interaction with the world    .very good    here . geopolitic society tradewar ethic democracy ruleof law future australian business human reasoning auspol https://t.co/vz4igb6wqi, Score: 0.153649666054164\n",
            "None\n",
            "Query:  Australian Politics\n",
            "Document: ahead of the upcoming australian federal election , edl ceo james harman @jamesha54369756 share his outlook on energypolicy with @questevents_aus australian energy week ausvotes19 aus votes2019 auspol https://t.co/9ugbasjdga https://t.co/azvqxzbzax, Score: 0.25451911631348073\n",
            "Document: vote u.a.g.p heck the rest . australia politics politicalmemes gamer gamermeme tasmania vote liberal liberalmeme primeminist election labour labourmeme green greensmeme onenation @scottmorrisonmp @billshortenmp @senatorpaulinehanson https://t.co/rci7qpffjv, Score: 0.25229397034647905\n",
            "Document: climate change to be decisive issue in australian election energy and global warming debate have dominate australia 's election campaign , with many voter call for change . auspol ausvotes aus votes19 auspol19 auspol2019 aus votes2019 australia australiavotes2019 https://t.co/zh50qlfnm7, Score: 0.2520254612590914\n",
            "Document: minor party when I be a kid now dead , australian against further immigration , the australian democrat , the necular disarmament party auspol, Score: 0.2496419320432729\n",
            "Document: vale bob hawke . a true giant in australian politic @australianlabor auspol, Score: 0.24765137936662052\n",
            "Document: @jmodoh liberal party : destroy the political landscape of australia street by street . auspol agitator concret not cement, Score: 0.24667486504145944\n",
            "Document: climate issue reject -historic landslide win in australia after labor lose   unlosable   election give the rejection , this may be the last australian election where   climate   be use as a key issue . from cnn : australia s liberal national coalition g   https://t.co/r1ygdyfqg8, Score: 0.2454126835342014\n",
            "Document: the australian people deserve a strong opposition and therefore a strong alp . some commentary from labor supporter , full of hate and bile towards fellow australian be concern and not helpful as they rebuild . auspol aus votes2019 https://t.co/qdhaedny0o, Score: 0.24388154054047767\n",
            "Document: australian leader make last poll pitch , mourn former pm hawke https://t.co/uu0rsypnsf https://t.co/vh66bwjxun, Score: 0.2436074239005587\n",
            "Document: australian voter reject opposition s progressive agenda on climate , tax https://t.co/j7ypdzxjph, Score: 0.24349895054566167\n",
            "None\n",
            "Query:  Election Night\n",
            "Document: voting    do    election day auspol australiavote https://t.co/dkjxoegkr9, Score: 0.3313567133818909\n",
            "Document: australia 's 2019 federal election night    in picture https://t.co/uzcvtngbws, Score: 0.2961095410112347\n",
            "Document: I be call an early win for the goulash I make for election night dinner . ausvote, Score: 0.2947740296336767\n",
            "Document: same go for australia 's election next weekend auspol2019 auspol https://t.co/aevlyw1xlf, Score: 0.29449031977126067\n",
            "Document: australia 's conservative coalition score stunning political victory in general election , defy poll forecast loss https://t.co/b3vmwtaopw fox news, Score: 0.29234018291892433\n",
            "Document: vote    day ! vote below the line as always and put labor last . vote liberal auspol, Score: 0.2909290674228147\n",
            "Document: congrat to scott morrison and the liberal national party on a stunning election win .... ausvote, Score: 0.29074554815150117\n",
            "Document: happy election day australia , remember vote early , vote often ! enjoy a democracysausage and keep an eye on dogsatpollingstation ., Score: 0.28917537284131306\n",
            "Document: roll on election day qand a auspol, Score: 0.2883946746426699\n",
            "Document: have the @geelongcat win the election yet ? auspol, Score: 0.2873353353550848\n",
            "None\n",
            "Query:  Prime Minister\n",
            "Document: australia 's most trust politician be new zealand 's prime minister https://t.co/sicmzme8ed, Score: 0.17735065611603998\n",
            "Document: penny wong for shadow minister labour auspol, Score: 0.1736738474258714\n",
            "Document: australia election : prime minister scott morrison seize a stunning win https://t.co/dz1nigutbe, Score: 0.1677062045038927\n",
            "Document: break : former prime minister @tonyabbottmhr have lose his seat of warringah after 25 year in parliament and public life . ausvotes n e w s https://t.co/ckeiiisica, Score: 0.155173889819429\n",
            "Document: the prime minister @scottmorrisonmp get a round of applause after give the shire a shout out ausvote https://t.co/zin1bbdozy, Score: 0.15492010004291204\n",
            "Document: the election campaign have officially enter its final stretch , with the prime minister and opposition leader target marginal new south wale seat today . @fi_willan aus votes19 aus pol news https://t.co/dqge9zcnwv, Score: 0.1533393119387974\n",
            "Document: the murdoch country be increasingly problematic : australia election result : prime minister scott morrison seize a stunning win - the new york times https://t.co/np8uxs6h7r, Score: 0.15311878981110294\n",
            "Document:   at the beginning of this month , she be not by prime minister scott morrison s side for the launch of the coalition s environment platform for the election .   https://t.co/9myyqth4mk, Score: 0.15197637949512569\n",
            "Document: australian leader make last poll pitch , mourn former pm hawke https://t.co/uu0rsypnsf https://t.co/vh66bwjxun, Score: 0.15172925533177173\n",
            "Document: yay election day , can not wait to see how kany prime minister we get before the next election ... smh auspol ausvote, Score: 0.15171440404687106\n",
            "None\n",
            "Query:  Campaign Promise\n",
            "Document: australia election : the campaign with cash to splash https://t.co/kbeussgqvt, Score: 0.28572849422187685\n",
            "Document: federal election 2019 : scott morrison launch liberal party campaign    politic live https://t.co/tkokjjwzdv suppose you give a party and nobody come ... auspol ausvote, Score: 0.27605071014393745\n",
            "Document: false election claim spark push for truth in political advertising law - liberal include jane george christensen pay to spread and amplify false death tax claim on facebook https://t.co/usz1aoce3 t, Score: 0.27393514451382744\n",
            "Document: @forthleft2 @pckj3627 he have already paste the rein on to lachlan to cut his tooth at this election , run the scare campaign against labor . auspol, Score: 0.27354362274116234\n",
            "Document: .@barnaby_joyce say \" dopey \" campaign organisation getup have waste its resource campaign against the national , who be poll well.#ausvotes n e w s https://t.co/bjswlawehp, Score: 0.26883832636235355\n",
            "Document: pundit coalition win : a brilliant presidential campaign from scomo - his energy , small target strike the right note coalition loss : morrison too self centre , unwilling to let his team help . lack of vision be tell . be a failure to have such a narrow policy agenda auspol, Score: 0.2678536863645342\n",
            "Document: 2019 look a lot like 1993 . unexpected , behind in the poll , unpopular tired govt win the vote on scare campaign on opposition s tax reform agenda . the govt lose in a landslide the next time . auspol ausvote, Score: 0.2658465276678703\n",
            "Document: as the poll include unreliable seat poll continue to cause anxiety for alp , worth remember lnp ridiculous tax scare campaign would be nothing without the msm amplify , exaggerate , parrot lnp retiree tax lie . bad than previous campaign auspol ausvotes auspol19, Score: 0.2657113239871472\n",
            "Document: scomo 's campaign launch flop end a week of catastrophic failure . https://t.co/zml5hwretp via @ausindimedia auspol election19 aus votes19, Score: 0.2636435385363099\n",
            "Document: opposition leader @billshortenmp have concede defeat in the 2019 federal election and say he would not continue to lead the party . ausvotes n e w s https://t.co/8olcp3rjem, Score: 0.2629138281208521\n",
            "None\n",
            "Query:  Climate Change\n",
            "Document: how concern about climate change could decide australia 's election https://t.co/yfef81gkvr https://t.co/5jfnda5eno, Score: 0.24619233682399452\n",
            "Document: @repraulgrijalva @sominisengupta @tomsteyer @billmckibben @edbegleyjr @leodicaprio @schwarzenegger @dalailama @pontifex climate climatechange act on climate globalwarming we do not have time c o p21 environment auspol paris accord, Score: 0.24305385170710064\n",
            "Document: what be the party offer to combat climate change ? by @nicole_hasham https://t.co/mfy8lo3i3w aus votes aus votes2019 climate election, Score: 0.2428411630519112\n",
            "Document: federal election 2019 : labor to help council combat climate change australiavotes2019 https://t.co/3v8lrzogrn, Score: 0.23639452005752865\n",
            "Document: climate change to be decisive issue in australian election energy and global warming debate have dominate australia 's election campaign , with many voter call for change . auspol ausvotes aus votes19 auspol19 auspol2019 aus votes2019 australia australiavotes2019 https://t.co/zh50qlfnm7, Score: 0.23556983774379767\n",
            "Document: .@richaferguson on the importance of climate change in the federal election :   I think climate change have be a net positive for @australianlabor , despite the question around the cost .   more : https://t.co/gusaoalye1 aus votes2019 auspol https://t.co/6kcxceorr, Score: 0.23112500234194103\n",
            "Document: the guardian view on the australian election : vote on the climate emergency climate election auspol ausvote https://t.co/xulpjj1onb, Score: 0.22943424761961442\n",
            "Document: do your research and vote may 18 . this be the climate change election so there be more than just our own country hang in the balance . abc have this handy guide here : https://t.co/veyyx5t0hc ausvote auspol climate election aus votes2019 change politic climate action now, Score: 0.22938754464502034\n",
            "Document: @sbsnews perhaps voter of the sunshine state understand the sun 's role in climate well than the un ipcc and most of our politician . https://t.co/cvkoe3bynv ausvote aus votes2019 climate election qldpol auspol, Score: 0.22762960433526444\n",
            "Document: australian voter reject opposition s progressive agenda on climate , tax https://t.co/j7ypdzxjph, Score: 0.22496059988577935\n",
            "None\n"
          ]
        }
      ]
    },
    {
      "cell_type": "markdown",
      "source": [
        "The results here are better than the TF_IDF vectorizor where the best results were not the empty string, and the rsults are not bad although the scores are not all that high."
      ],
      "metadata": {
        "id": "uiibmUoLIZeI"
      }
    },
    {
      "cell_type": "code",
      "source": [
        "word_vectors = api.load(\"glove-wiki-gigaword-200\")\n",
        "\n",
        "# Function to generate average word vectors for a sentence\n",
        "def average_word_embeddings(sentence):\n",
        "    words = sentence.split()\n",
        "    embeddings = []\n",
        "    for word in words:\n",
        "        if word in word_vectors:\n",
        "            embeddings.append(word_vectors[word])\n",
        "    if len(embeddings) > 0:\n",
        "        # is word vector exists for the word\n",
        "        return np.mean(embeddings, axis=0)\n",
        "    else:\n",
        "        return np.zeros(word_vectors.vector_size)"
      ],
      "metadata": {
        "colab": {
          "base_uri": "https://localhost:8080/"
        },
        "id": "YfmbQu1TIKEm",
        "outputId": "76336a06-34b2-4ff1-de46-2726b6c9eae3"
      },
      "execution_count": 63,
      "outputs": [
        {
          "output_type": "stream",
          "name": "stdout",
          "text": [
            "[==================================================] 100.0% 252.1/252.1MB downloaded\n"
          ]
        }
      ]
    },
    {
      "cell_type": "markdown",
      "source": [],
      "metadata": {
        "id": "WEl5MHA1rviL"
      }
    },
    {
      "cell_type": "code",
      "source": [
        "def giga200(n):\n",
        "    word_vector_transformed_corpus = []\n",
        "\n",
        "    for sentence in corpus:\n",
        "        transformed_vector = average_word_embeddings(sentence)\n",
        "        word_vector_transformed_corpus.append(transformed_vector)\n",
        "\n",
        "    word_vector_transformed_query = average_word_embeddings(hashtags[n].lower())\n",
        "\n",
        "\n",
        "\n",
        "    word_vector_based_similarity_scores = {}\n",
        "\n",
        "    for i, vector in enumerate(word_vector_transformed_corpus):\n",
        "        sim = euclidean_distance_based_similarity(vector, word_vector_transformed_query)\n",
        "        word_vector_based_similarity_scores[i] = sim\n",
        "\n",
        "    ranked_documents = sorted(word_vector_based_similarity_scores.items(), key=lambda x: x[1], reverse=True)\n",
        "\n",
        "\n",
        "\n",
        "    print(f\"Query: {hashtags[n]}\")\n",
        "    for document_idx, score in ranked_documents[:10]:\n",
        "        print(f\"Document: {corpus[document_idx]}, Score: {score}\")\n",
        "\n",
        "\n",
        "\n",
        "\n",
        "for i in range(1,len(hashtags)) :\n",
        "    print(giga200(i))"
      ],
      "metadata": {
        "colab": {
          "base_uri": "https://localhost:8080/"
        },
        "id": "4XRbHej4I-RL",
        "outputId": "331c8da9-94de-4b0c-8d80-fd9ac71490b7"
      },
      "execution_count": 78,
      "outputs": [
        {
          "output_type": "stream",
          "name": "stdout",
          "text": [
            "Query:  Parliament\n",
            "Document: vote labor auspol ausvotes bill shorten vote for change https://t.co/eoggv1qy9w, Score: 0.1600116585642951\n",
            "Document: vote u.a.g.p heck the rest . australia politics politicalmemes gamer gamermeme tasmania vote liberal liberalmeme primeminist election labour labourmeme green greensmeme onenation @scottmorrisonmp @billshortenmp @senatorpaulinehanson https://t.co/rci7qpffjv, Score: 0.15959928490699735\n",
            "Document: australia 's conservative coalition poise to secure outright parliamentary majority - analyst https://t.co/xxzjcbvwnu https://t.co/hloqyepo5 g, Score: 0.15952470711804398\n",
            "Document: the guardian view on the australian election : vote on the climate emergency climate election auspol ausvote https://t.co/xulpjj1onb, Score: 0.1575696748221534\n",
            "Document: break : former prime minister @tonyabbottmhr have lose his seat of warringah after 25 year in parliament and public life . ausvotes n e w s https://t.co/ckeiiisica, Score: 0.1570899903850216\n",
            "Document: australia 's most trust politician be new zealand 's prime minister https://t.co/sicmzme8ed, Score: 0.1568118637784269\n",
            "Document: australia election : prime minister scott morrison seize a stunning win https://t.co/dz1nigutbe, Score: 0.1557284227807115\n",
            "Document: the guardian view on the australian election : vote on the climate emergency ausvote auspol https://t.co/yvuupbq6kp, Score: 0.15565040528516919\n",
            "Document: australia s rule coalition in shock election victory https://t.co/numf0oryf4, Score: 0.1553393800933939\n",
            "Document: australian voter reject opposition s progressive agenda on climate , tax https://t.co/j7ypdzxjph, Score: 0.15530689328227512\n",
            "None\n",
            "Query:  Party\n",
            "Document: coalition after party at engadine maccas myliberal ausvote, Score: 0.18776616185075848\n",
            "Document: voting be our superpower ! labour party liberalparty gymbus auspol19 auspol https://t.co/gvbckm3w0d, Score: 0.18489262546131643\n",
            "Document: congrat to scott morrison and the liberal national party on a stunning election win .... ausvote, Score: 0.17548437540792766\n",
            "Document: voter go to the poll in australia with opposition party tip to win https://t.co/lpxkdwbumw, Score: 0.17214623045549285\n",
            "Document: vote u.a.g.p heck the rest . australia politics politicalmemes gamer gamermeme tasmania vote liberal liberalmeme primeminist election labour labourmeme green greensmeme onenation @scottmorrisonmp @billshortenmp @senatorpaulinehanson https://t.co/rci7qpffjv, Score: 0.17052291285365795\n",
            "Document: minor party when I be a kid now dead , australian against further immigration , the australian democrat , the necular disarmament party auspol, Score: 0.1701866455932928\n",
            "Document: federal election 2019 : scott morrison launch liberal party campaign    politic live https://t.co/tkokjjwzdv suppose you give a party and nobody come ... auspol ausvote, Score: 0.16965394801911216\n",
            "Document: factory fire symptomatic of social devastation in calwell electorate by peter byrne , socialist equality party candidate for calwell https://t.co/qcdqyfoiy2 ausvote auspol https://t.co/p584jytpgz, Score: 0.16892876797426476\n",
            "Document: nsw do not have a labor leader , and now neither do the federal party ... auspol, Score: 0.1679861609301321\n",
            "Document: wait for the allegation of russian collusion from the labor party .. ausvote  , Score: 0.16769051484213365\n",
            "None\n",
            "Query:  Government\n",
            "Document: another catastrophic policy fail under the current government . https://t.co/dhfi73vhdq auspol, Score: 0.21374955179040242\n",
            "Document: coalition double all government debt since federation in just under six year https://t.co/d5o1kyowgh auspol, Score: 0.2086308412028482\n",
            "Document: nsw do not have a labor leader , and now neither do the federal party ... auspol, Score: 0.20134836983968185\n",
            "Document: australia 's most trust politician be new zealand 's prime minister https://t.co/sicmzme8ed, Score: 0.19954975627101745\n",
            "Document: the first exit poll of australia 's 2019 federal election project labor will form the next government which could mean the end of the monarchy down under . labor leader bill shorten want to ditch the queen and have an australian head of state instead with a vote as soon as 2021 ., Score: 0.19944682008090847\n",
            "Document: .@cpyne argue on @10newsfirst that libs could be head for majority government - not minority . extraordinary poll result ausvote auspol https://t.co/uskibfx6xv, Score: 0.19877596245804632\n",
            "Document: opposition leader @billshortenmp have concede defeat in the 2019 federal election and say he would not continue to lead the party . ausvotes n e w s https://t.co/8olcp3rjem, Score: 0.19705993232228963\n",
            "Document: wait for the allegation of russian collusion from the labor party .. ausvote  , Score: 0.19674801080318782\n",
            "Document: australian bank rally as conservative election win ease fear of new curb https://t.co/yqf3jcucmg https://t.co/bktjxqatel, Score: 0.19616247211528542\n",
            "Document: not satisfied with its high incarceration rate of indigenous woman the western australia police state be now use fake legislation to frighten citizen . auspol https://t.co/kfp6z4biym, Score: 0.1960934691207898\n",
            "None\n",
            "Query: Democracy\n",
            "Document: @ australian democracy auspol auspol2019 ausvote https://t.co/qdf2gakszw, Score: 0.17817398579876992\n",
            "Document: democracy achieve !    # auspol https://t.co/h1zxlcuux7, Score: 0.16889154614520302\n",
            "Document: look like he need a democracy sausage ausvote https://t.co/zcjngrzb2j, Score: 0.1588361283663415\n",
            "Document: and this aus vote democracy sausage emoji be everything  , Score: 0.15831647426607665\n",
            "Document: australia election : fine , donkey vote and democracy sausage https://t.co/luannyq0au, Score: 0.15739206516294715\n",
            "Document: solidarity ( & amp ; democracy sausage ) forever ! ausvote big step n o w ozearlyed democracy sausage, Score: 0.15441828875113744\n",
            "Document: boomer talk of economic fairness ; then quietly vote to preserve their post - war era economic loot . ominous . @brendancoate @inter_gen @gensqueeze @australiapm @georgemagnus1 @theeconomist @sensander @senatorwong @kenwyattmp auspol demographic age democracy, Score: 0.1543984844277186\n",
            "Document: well play camdenville public newtown . australiavotes2019 australia decide democracy sausage https://t.co/09cxo6rmrs, Score: 0.15385453986557596\n",
            "Document: happy democracy sausage day straya ! aus votes auspol, Score: 0.1536695714974084\n",
            "Document: for those interested in a sensible take on china u s politic and china s current interaction with the world    .very good    here . geopolitic society tradewar ethic democracy ruleof law future australian business human reasoning auspol https://t.co/vz4igb6wqi, Score: 0.153649666054164\n",
            "None\n",
            "Query:  Australian Politics\n",
            "Document: ahead of the upcoming australian federal election , edl ceo james harman @jamesha54369756 share his outlook on energypolicy with @questevents_aus australian energy week ausvotes19 aus votes2019 auspol https://t.co/9ugbasjdga https://t.co/azvqxzbzax, Score: 0.25451911631348073\n",
            "Document: vote u.a.g.p heck the rest . australia politics politicalmemes gamer gamermeme tasmania vote liberal liberalmeme primeminist election labour labourmeme green greensmeme onenation @scottmorrisonmp @billshortenmp @senatorpaulinehanson https://t.co/rci7qpffjv, Score: 0.25229397034647905\n",
            "Document: climate change to be decisive issue in australian election energy and global warming debate have dominate australia 's election campaign , with many voter call for change . auspol ausvotes aus votes19 auspol19 auspol2019 aus votes2019 australia australiavotes2019 https://t.co/zh50qlfnm7, Score: 0.2520254612590914\n",
            "Document: minor party when I be a kid now dead , australian against further immigration , the australian democrat , the necular disarmament party auspol, Score: 0.2496419320432729\n",
            "Document: vale bob hawke . a true giant in australian politic @australianlabor auspol, Score: 0.24765137936662052\n",
            "Document: @jmodoh liberal party : destroy the political landscape of australia street by street . auspol agitator concret not cement, Score: 0.24667486504145944\n",
            "Document: climate issue reject -historic landslide win in australia after labor lose   unlosable   election give the rejection , this may be the last australian election where   climate   be use as a key issue . from cnn : australia s liberal national coalition g   https://t.co/r1ygdyfqg8, Score: 0.2454126835342014\n",
            "Document: the australian people deserve a strong opposition and therefore a strong alp . some commentary from labor supporter , full of hate and bile towards fellow australian be concern and not helpful as they rebuild . auspol aus votes2019 https://t.co/qdhaedny0o, Score: 0.24388154054047767\n",
            "Document: australian leader make last poll pitch , mourn former pm hawke https://t.co/uu0rsypnsf https://t.co/vh66bwjxun, Score: 0.2436074239005587\n",
            "Document: australian voter reject opposition s progressive agenda on climate , tax https://t.co/j7ypdzxjph, Score: 0.24349895054566167\n",
            "None\n",
            "Query:  Election Night\n",
            "Document: voting    do    election day auspol australiavote https://t.co/dkjxoegkr9, Score: 0.3313567133818909\n",
            "Document: australia 's 2019 federal election night    in picture https://t.co/uzcvtngbws, Score: 0.2961095410112347\n",
            "Document: I be call an early win for the goulash I make for election night dinner . ausvote, Score: 0.2947740296336767\n",
            "Document: same go for australia 's election next weekend auspol2019 auspol https://t.co/aevlyw1xlf, Score: 0.29449031977126067\n",
            "Document: australia 's conservative coalition score stunning political victory in general election , defy poll forecast loss https://t.co/b3vmwtaopw fox news, Score: 0.29234018291892433\n",
            "Document: vote    day ! vote below the line as always and put labor last . vote liberal auspol, Score: 0.2909290674228147\n",
            "Document: congrat to scott morrison and the liberal national party on a stunning election win .... ausvote, Score: 0.29074554815150117\n",
            "Document: happy election day australia , remember vote early , vote often ! enjoy a democracysausage and keep an eye on dogsatpollingstation ., Score: 0.28917537284131306\n",
            "Document: roll on election day qand a auspol, Score: 0.2883946746426699\n",
            "Document: have the @geelongcat win the election yet ? auspol, Score: 0.2873353353550848\n",
            "None\n",
            "Query:  Prime Minister\n",
            "Document: australia 's most trust politician be new zealand 's prime minister https://t.co/sicmzme8ed, Score: 0.17735065611603998\n",
            "Document: penny wong for shadow minister labour auspol, Score: 0.1736738474258714\n",
            "Document: australia election : prime minister scott morrison seize a stunning win https://t.co/dz1nigutbe, Score: 0.1677062045038927\n",
            "Document: break : former prime minister @tonyabbottmhr have lose his seat of warringah after 25 year in parliament and public life . ausvotes n e w s https://t.co/ckeiiisica, Score: 0.155173889819429\n",
            "Document: the prime minister @scottmorrisonmp get a round of applause after give the shire a shout out ausvote https://t.co/zin1bbdozy, Score: 0.15492010004291204\n",
            "Document: the election campaign have officially enter its final stretch , with the prime minister and opposition leader target marginal new south wale seat today . @fi_willan aus votes19 aus pol news https://t.co/dqge9zcnwv, Score: 0.1533393119387974\n",
            "Document: the murdoch country be increasingly problematic : australia election result : prime minister scott morrison seize a stunning win - the new york times https://t.co/np8uxs6h7r, Score: 0.15311878981110294\n",
            "Document:   at the beginning of this month , she be not by prime minister scott morrison s side for the launch of the coalition s environment platform for the election .   https://t.co/9myyqth4mk, Score: 0.15197637949512569\n",
            "Document: australian leader make last poll pitch , mourn former pm hawke https://t.co/uu0rsypnsf https://t.co/vh66bwjxun, Score: 0.15172925533177173\n",
            "Document: yay election day , can not wait to see how kany prime minister we get before the next election ... smh auspol ausvote, Score: 0.15171440404687106\n",
            "None\n",
            "Query:  Campaign Promise\n",
            "Document: australia election : the campaign with cash to splash https://t.co/kbeussgqvt, Score: 0.28572849422187685\n",
            "Document: federal election 2019 : scott morrison launch liberal party campaign    politic live https://t.co/tkokjjwzdv suppose you give a party and nobody come ... auspol ausvote, Score: 0.27605071014393745\n",
            "Document: false election claim spark push for truth in political advertising law - liberal include jane george christensen pay to spread and amplify false death tax claim on facebook https://t.co/usz1aoce3 t, Score: 0.27393514451382744\n",
            "Document: @forthleft2 @pckj3627 he have already paste the rein on to lachlan to cut his tooth at this election , run the scare campaign against labor . auspol, Score: 0.27354362274116234\n",
            "Document: .@barnaby_joyce say \" dopey \" campaign organisation getup have waste its resource campaign against the national , who be poll well.#ausvotes n e w s https://t.co/bjswlawehp, Score: 0.26883832636235355\n",
            "Document: pundit coalition win : a brilliant presidential campaign from scomo - his energy , small target strike the right note coalition loss : morrison too self centre , unwilling to let his team help . lack of vision be tell . be a failure to have such a narrow policy agenda auspol, Score: 0.2678536863645342\n",
            "Document: 2019 look a lot like 1993 . unexpected , behind in the poll , unpopular tired govt win the vote on scare campaign on opposition s tax reform agenda . the govt lose in a landslide the next time . auspol ausvote, Score: 0.2658465276678703\n",
            "Document: as the poll include unreliable seat poll continue to cause anxiety for alp , worth remember lnp ridiculous tax scare campaign would be nothing without the msm amplify , exaggerate , parrot lnp retiree tax lie . bad than previous campaign auspol ausvotes auspol19, Score: 0.2657113239871472\n",
            "Document: scomo 's campaign launch flop end a week of catastrophic failure . https://t.co/zml5hwretp via @ausindimedia auspol election19 aus votes19, Score: 0.2636435385363099\n",
            "Document: opposition leader @billshortenmp have concede defeat in the 2019 federal election and say he would not continue to lead the party . ausvotes n e w s https://t.co/8olcp3rjem, Score: 0.2629138281208521\n",
            "None\n",
            "Query:  Climate Change\n",
            "Document: how concern about climate change could decide australia 's election https://t.co/yfef81gkvr https://t.co/5jfnda5eno, Score: 0.24619233682399452\n",
            "Document: @repraulgrijalva @sominisengupta @tomsteyer @billmckibben @edbegleyjr @leodicaprio @schwarzenegger @dalailama @pontifex climate climatechange act on climate globalwarming we do not have time c o p21 environment auspol paris accord, Score: 0.24305385170710064\n",
            "Document: what be the party offer to combat climate change ? by @nicole_hasham https://t.co/mfy8lo3i3w aus votes aus votes2019 climate election, Score: 0.2428411630519112\n",
            "Document: federal election 2019 : labor to help council combat climate change australiavotes2019 https://t.co/3v8lrzogrn, Score: 0.23639452005752865\n",
            "Document: climate change to be decisive issue in australian election energy and global warming debate have dominate australia 's election campaign , with many voter call for change . auspol ausvotes aus votes19 auspol19 auspol2019 aus votes2019 australia australiavotes2019 https://t.co/zh50qlfnm7, Score: 0.23556983774379767\n",
            "Document: .@richaferguson on the importance of climate change in the federal election :   I think climate change have be a net positive for @australianlabor , despite the question around the cost .   more : https://t.co/gusaoalye1 aus votes2019 auspol https://t.co/6kcxceorr, Score: 0.23112500234194103\n",
            "Document: the guardian view on the australian election : vote on the climate emergency climate election auspol ausvote https://t.co/xulpjj1onb, Score: 0.22943424761961442\n",
            "Document: do your research and vote may 18 . this be the climate change election so there be more than just our own country hang in the balance . abc have this handy guide here : https://t.co/veyyx5t0hc ausvote auspol climate election aus votes2019 change politic climate action now, Score: 0.22938754464502034\n",
            "Document: @sbsnews perhaps voter of the sunshine state understand the sun 's role in climate well than the un ipcc and most of our politician . https://t.co/cvkoe3bynv ausvote aus votes2019 climate election qldpol auspol, Score: 0.22762960433526444\n",
            "Document: australian voter reject opposition s progressive agenda on climate , tax https://t.co/j7ypdzxjph, Score: 0.22496059988577935\n",
            "None\n"
          ]
        }
      ]
    },
    {
      "cell_type": "markdown",
      "source": [
        "the scores are not not high here, but the results do relate to the hashtags, but not all , and they also got the same results as the gigaword-50 embedder."
      ],
      "metadata": {
        "id": "NKTwKCVYJTUD"
      }
    },
    {
      "cell_type": "markdown",
      "source": [],
      "metadata": {
        "id": "hdlr6OhML_1Y"
      }
    },
    {
      "cell_type": "markdown",
      "source": [],
      "metadata": {
        "id": "a7VY2qUnKbzf"
      }
    },
    {
      "cell_type": "code",
      "source": [
        "word_vectors = api.load(\"glove-wiki-gigaword-300\")\n",
        "\n",
        "# Function to generate average word vectors for a sentence\n",
        "def average_word_embeddings(sentence):\n",
        "    words = sentence.split()\n",
        "    embeddings = []\n",
        "    for word in words:\n",
        "        if word in word_vectors:\n",
        "            embeddings.append(word_vectors[word])\n",
        "    if len(embeddings) > 0:\n",
        "        # is word vector exists for the word\n",
        "        return np.mean(embeddings, axis=0)\n",
        "    else:\n",
        "        return np.zeros(word_vectors.vector_size)"
      ],
      "metadata": {
        "colab": {
          "base_uri": "https://localhost:8080/"
        },
        "id": "5_qrp9yYLODW",
        "outputId": "a07bd8e4-bb17-47d4-a406-1995c2eb3756"
      },
      "execution_count": 65,
      "outputs": [
        {
          "output_type": "stream",
          "name": "stdout",
          "text": [
            "[==================================================] 100.0% 376.1/376.1MB downloaded\n"
          ]
        }
      ]
    },
    {
      "cell_type": "code",
      "source": [
        "def giga300(n):\n",
        "    word_vector_transformed_corpus = []\n",
        "\n",
        "    for sentence in corpus:\n",
        "        transformed_vector = average_word_embeddings(sentence)\n",
        "        word_vector_transformed_corpus.append(transformed_vector)\n",
        "\n",
        "    word_vector_transformed_query = average_word_embeddings(hashtags[n].lower())\n",
        "\n",
        "\n",
        "\n",
        "    word_vector_based_similarity_scores = {}\n",
        "\n",
        "    for i, vector in enumerate(word_vector_transformed_corpus):\n",
        "        sim = euclidean_distance_based_similarity(vector, word_vector_transformed_query)\n",
        "        word_vector_based_similarity_scores[i] = sim\n",
        "\n",
        "    ranked_documents = sorted(word_vector_based_similarity_scores.items(), key=lambda x: x[1], reverse=True)\n",
        "\n",
        "\n",
        "\n",
        "    print(f\"Query: {hashtags[n]}\")\n",
        "    for document_idx, score in ranked_documents[:10]:\n",
        "        print(f\"Document: {corpus[document_idx]}, Score: {score}\")\n",
        "\n",
        "\n",
        "\n",
        "\n",
        "for i in range(1,len(hashtags)) :\n",
        "    print(giga300(i))"
      ],
      "metadata": {
        "colab": {
          "base_uri": "https://localhost:8080/"
        },
        "id": "tPD2PnJ9LdhD",
        "outputId": "3111c0e8-5f23-4418-cf8c-56e98d3cdb39"
      },
      "execution_count": 76,
      "outputs": [
        {
          "output_type": "stream",
          "name": "stdout",
          "text": [
            "Query:  Parliament\n",
            "Document: vote labor auspol ausvotes bill shorten vote for change https://t.co/eoggv1qy9w, Score: 0.1600116585642951\n",
            "Document: vote u.a.g.p heck the rest . australia politics politicalmemes gamer gamermeme tasmania vote liberal liberalmeme primeminist election labour labourmeme green greensmeme onenation @scottmorrisonmp @billshortenmp @senatorpaulinehanson https://t.co/rci7qpffjv, Score: 0.15959928490699735\n",
            "Document: australia 's conservative coalition poise to secure outright parliamentary majority - analyst https://t.co/xxzjcbvwnu https://t.co/hloqyepo5 g, Score: 0.15952470711804398\n",
            "Document: the guardian view on the australian election : vote on the climate emergency climate election auspol ausvote https://t.co/xulpjj1onb, Score: 0.1575696748221534\n",
            "Document: break : former prime minister @tonyabbottmhr have lose his seat of warringah after 25 year in parliament and public life . ausvotes n e w s https://t.co/ckeiiisica, Score: 0.1570899903850216\n",
            "Document: australia 's most trust politician be new zealand 's prime minister https://t.co/sicmzme8ed, Score: 0.1568118637784269\n",
            "Document: australia election : prime minister scott morrison seize a stunning win https://t.co/dz1nigutbe, Score: 0.1557284227807115\n",
            "Document: the guardian view on the australian election : vote on the climate emergency ausvote auspol https://t.co/yvuupbq6kp, Score: 0.15565040528516919\n",
            "Document: australia s rule coalition in shock election victory https://t.co/numf0oryf4, Score: 0.1553393800933939\n",
            "Document: australian voter reject opposition s progressive agenda on climate , tax https://t.co/j7ypdzxjph, Score: 0.15530689328227512\n",
            "None\n",
            "Query:  Party\n",
            "Document: coalition after party at engadine maccas myliberal ausvote, Score: 0.18776616185075848\n",
            "Document: voting be our superpower ! labour party liberalparty gymbus auspol19 auspol https://t.co/gvbckm3w0d, Score: 0.18489262546131643\n",
            "Document: congrat to scott morrison and the liberal national party on a stunning election win .... ausvote, Score: 0.17548437540792766\n",
            "Document: voter go to the poll in australia with opposition party tip to win https://t.co/lpxkdwbumw, Score: 0.17214623045549285\n",
            "Document: vote u.a.g.p heck the rest . australia politics politicalmemes gamer gamermeme tasmania vote liberal liberalmeme primeminist election labour labourmeme green greensmeme onenation @scottmorrisonmp @billshortenmp @senatorpaulinehanson https://t.co/rci7qpffjv, Score: 0.17052291285365795\n",
            "Document: minor party when I be a kid now dead , australian against further immigration , the australian democrat , the necular disarmament party auspol, Score: 0.1701866455932928\n",
            "Document: federal election 2019 : scott morrison launch liberal party campaign    politic live https://t.co/tkokjjwzdv suppose you give a party and nobody come ... auspol ausvote, Score: 0.16965394801911216\n",
            "Document: factory fire symptomatic of social devastation in calwell electorate by peter byrne , socialist equality party candidate for calwell https://t.co/qcdqyfoiy2 ausvote auspol https://t.co/p584jytpgz, Score: 0.16892876797426476\n",
            "Document: nsw do not have a labor leader , and now neither do the federal party ... auspol, Score: 0.1679861609301321\n",
            "Document: wait for the allegation of russian collusion from the labor party .. ausvote  , Score: 0.16769051484213365\n",
            "None\n",
            "Query:  Government\n",
            "Document: another catastrophic policy fail under the current government . https://t.co/dhfi73vhdq auspol, Score: 0.21374955179040242\n",
            "Document: coalition double all government debt since federation in just under six year https://t.co/d5o1kyowgh auspol, Score: 0.2086308412028482\n",
            "Document: nsw do not have a labor leader , and now neither do the federal party ... auspol, Score: 0.20134836983968185\n",
            "Document: australia 's most trust politician be new zealand 's prime minister https://t.co/sicmzme8ed, Score: 0.19954975627101745\n",
            "Document: the first exit poll of australia 's 2019 federal election project labor will form the next government which could mean the end of the monarchy down under . labor leader bill shorten want to ditch the queen and have an australian head of state instead with a vote as soon as 2021 ., Score: 0.19944682008090847\n",
            "Document: .@cpyne argue on @10newsfirst that libs could be head for majority government - not minority . extraordinary poll result ausvote auspol https://t.co/uskibfx6xv, Score: 0.19877596245804632\n",
            "Document: opposition leader @billshortenmp have concede defeat in the 2019 federal election and say he would not continue to lead the party . ausvotes n e w s https://t.co/8olcp3rjem, Score: 0.19705993232228963\n",
            "Document: wait for the allegation of russian collusion from the labor party .. ausvote  , Score: 0.19674801080318782\n",
            "Document: australian bank rally as conservative election win ease fear of new curb https://t.co/yqf3jcucmg https://t.co/bktjxqatel, Score: 0.19616247211528542\n",
            "Document: not satisfied with its high incarceration rate of indigenous woman the western australia police state be now use fake legislation to frighten citizen . auspol https://t.co/kfp6z4biym, Score: 0.1960934691207898\n",
            "None\n",
            "Query: Democracy\n",
            "Document: @ australian democracy auspol auspol2019 ausvote https://t.co/qdf2gakszw, Score: 0.17817398579876992\n",
            "Document: democracy achieve !    # auspol https://t.co/h1zxlcuux7, Score: 0.16889154614520302\n",
            "Document: look like he need a democracy sausage ausvote https://t.co/zcjngrzb2j, Score: 0.1588361283663415\n",
            "Document: and this aus vote democracy sausage emoji be everything  , Score: 0.15831647426607665\n",
            "Document: australia election : fine , donkey vote and democracy sausage https://t.co/luannyq0au, Score: 0.15739206516294715\n",
            "Document: solidarity ( & amp ; democracy sausage ) forever ! ausvote big step n o w ozearlyed democracy sausage, Score: 0.15441828875113744\n",
            "Document: boomer talk of economic fairness ; then quietly vote to preserve their post - war era economic loot . ominous . @brendancoate @inter_gen @gensqueeze @australiapm @georgemagnus1 @theeconomist @sensander @senatorwong @kenwyattmp auspol demographic age democracy, Score: 0.1543984844277186\n",
            "Document: well play camdenville public newtown . australiavotes2019 australia decide democracy sausage https://t.co/09cxo6rmrs, Score: 0.15385453986557596\n",
            "Document: happy democracy sausage day straya ! aus votes auspol, Score: 0.1536695714974084\n",
            "Document: for those interested in a sensible take on china u s politic and china s current interaction with the world    .very good    here . geopolitic society tradewar ethic democracy ruleof law future australian business human reasoning auspol https://t.co/vz4igb6wqi, Score: 0.153649666054164\n",
            "None\n",
            "Query:  Australian Politics\n",
            "Document: ahead of the upcoming australian federal election , edl ceo james harman @jamesha54369756 share his outlook on energypolicy with @questevents_aus australian energy week ausvotes19 aus votes2019 auspol https://t.co/9ugbasjdga https://t.co/azvqxzbzax, Score: 0.25451911631348073\n",
            "Document: vote u.a.g.p heck the rest . australia politics politicalmemes gamer gamermeme tasmania vote liberal liberalmeme primeminist election labour labourmeme green greensmeme onenation @scottmorrisonmp @billshortenmp @senatorpaulinehanson https://t.co/rci7qpffjv, Score: 0.25229397034647905\n",
            "Document: climate change to be decisive issue in australian election energy and global warming debate have dominate australia 's election campaign , with many voter call for change . auspol ausvotes aus votes19 auspol19 auspol2019 aus votes2019 australia australiavotes2019 https://t.co/zh50qlfnm7, Score: 0.2520254612590914\n",
            "Document: minor party when I be a kid now dead , australian against further immigration , the australian democrat , the necular disarmament party auspol, Score: 0.2496419320432729\n",
            "Document: vale bob hawke . a true giant in australian politic @australianlabor auspol, Score: 0.24765137936662052\n",
            "Document: @jmodoh liberal party : destroy the political landscape of australia street by street . auspol agitator concret not cement, Score: 0.24667486504145944\n",
            "Document: climate issue reject -historic landslide win in australia after labor lose   unlosable   election give the rejection , this may be the last australian election where   climate   be use as a key issue . from cnn : australia s liberal national coalition g   https://t.co/r1ygdyfqg8, Score: 0.2454126835342014\n",
            "Document: the australian people deserve a strong opposition and therefore a strong alp . some commentary from labor supporter , full of hate and bile towards fellow australian be concern and not helpful as they rebuild . auspol aus votes2019 https://t.co/qdhaedny0o, Score: 0.24388154054047767\n",
            "Document: australian leader make last poll pitch , mourn former pm hawke https://t.co/uu0rsypnsf https://t.co/vh66bwjxun, Score: 0.2436074239005587\n",
            "Document: australian voter reject opposition s progressive agenda on climate , tax https://t.co/j7ypdzxjph, Score: 0.24349895054566167\n",
            "None\n",
            "Query:  Election Night\n",
            "Document: voting    do    election day auspol australiavote https://t.co/dkjxoegkr9, Score: 0.3313567133818909\n",
            "Document: australia 's 2019 federal election night    in picture https://t.co/uzcvtngbws, Score: 0.2961095410112347\n",
            "Document: I be call an early win for the goulash I make for election night dinner . ausvote, Score: 0.2947740296336767\n",
            "Document: same go for australia 's election next weekend auspol2019 auspol https://t.co/aevlyw1xlf, Score: 0.29449031977126067\n",
            "Document: australia 's conservative coalition score stunning political victory in general election , defy poll forecast loss https://t.co/b3vmwtaopw fox news, Score: 0.29234018291892433\n",
            "Document: vote    day ! vote below the line as always and put labor last . vote liberal auspol, Score: 0.2909290674228147\n",
            "Document: congrat to scott morrison and the liberal national party on a stunning election win .... ausvote, Score: 0.29074554815150117\n",
            "Document: happy election day australia , remember vote early , vote often ! enjoy a democracysausage and keep an eye on dogsatpollingstation ., Score: 0.28917537284131306\n",
            "Document: roll on election day qand a auspol, Score: 0.2883946746426699\n",
            "Document: have the @geelongcat win the election yet ? auspol, Score: 0.2873353353550848\n",
            "None\n",
            "Query:  Prime Minister\n",
            "Document: australia 's most trust politician be new zealand 's prime minister https://t.co/sicmzme8ed, Score: 0.17735065611603998\n",
            "Document: penny wong for shadow minister labour auspol, Score: 0.1736738474258714\n",
            "Document: australia election : prime minister scott morrison seize a stunning win https://t.co/dz1nigutbe, Score: 0.1677062045038927\n",
            "Document: break : former prime minister @tonyabbottmhr have lose his seat of warringah after 25 year in parliament and public life . ausvotes n e w s https://t.co/ckeiiisica, Score: 0.155173889819429\n",
            "Document: the prime minister @scottmorrisonmp get a round of applause after give the shire a shout out ausvote https://t.co/zin1bbdozy, Score: 0.15492010004291204\n",
            "Document: the election campaign have officially enter its final stretch , with the prime minister and opposition leader target marginal new south wale seat today . @fi_willan aus votes19 aus pol news https://t.co/dqge9zcnwv, Score: 0.1533393119387974\n",
            "Document: the murdoch country be increasingly problematic : australia election result : prime minister scott morrison seize a stunning win - the new york times https://t.co/np8uxs6h7r, Score: 0.15311878981110294\n",
            "Document:   at the beginning of this month , she be not by prime minister scott morrison s side for the launch of the coalition s environment platform for the election .   https://t.co/9myyqth4mk, Score: 0.15197637949512569\n",
            "Document: australian leader make last poll pitch , mourn former pm hawke https://t.co/uu0rsypnsf https://t.co/vh66bwjxun, Score: 0.15172925533177173\n",
            "Document: yay election day , can not wait to see how kany prime minister we get before the next election ... smh auspol ausvote, Score: 0.15171440404687106\n",
            "None\n",
            "Query:  Campaign Promise\n",
            "Document: australia election : the campaign with cash to splash https://t.co/kbeussgqvt, Score: 0.28572849422187685\n",
            "Document: federal election 2019 : scott morrison launch liberal party campaign    politic live https://t.co/tkokjjwzdv suppose you give a party and nobody come ... auspol ausvote, Score: 0.27605071014393745\n",
            "Document: false election claim spark push for truth in political advertising law - liberal include jane george christensen pay to spread and amplify false death tax claim on facebook https://t.co/usz1aoce3 t, Score: 0.27393514451382744\n",
            "Document: @forthleft2 @pckj3627 he have already paste the rein on to lachlan to cut his tooth at this election , run the scare campaign against labor . auspol, Score: 0.27354362274116234\n",
            "Document: .@barnaby_joyce say \" dopey \" campaign organisation getup have waste its resource campaign against the national , who be poll well.#ausvotes n e w s https://t.co/bjswlawehp, Score: 0.26883832636235355\n",
            "Document: pundit coalition win : a brilliant presidential campaign from scomo - his energy , small target strike the right note coalition loss : morrison too self centre , unwilling to let his team help . lack of vision be tell . be a failure to have such a narrow policy agenda auspol, Score: 0.2678536863645342\n",
            "Document: 2019 look a lot like 1993 . unexpected , behind in the poll , unpopular tired govt win the vote on scare campaign on opposition s tax reform agenda . the govt lose in a landslide the next time . auspol ausvote, Score: 0.2658465276678703\n",
            "Document: as the poll include unreliable seat poll continue to cause anxiety for alp , worth remember lnp ridiculous tax scare campaign would be nothing without the msm amplify , exaggerate , parrot lnp retiree tax lie . bad than previous campaign auspol ausvotes auspol19, Score: 0.2657113239871472\n",
            "Document: scomo 's campaign launch flop end a week of catastrophic failure . https://t.co/zml5hwretp via @ausindimedia auspol election19 aus votes19, Score: 0.2636435385363099\n",
            "Document: opposition leader @billshortenmp have concede defeat in the 2019 federal election and say he would not continue to lead the party . ausvotes n e w s https://t.co/8olcp3rjem, Score: 0.2629138281208521\n",
            "None\n",
            "Query:  Climate Change\n",
            "Document: how concern about climate change could decide australia 's election https://t.co/yfef81gkvr https://t.co/5jfnda5eno, Score: 0.24619233682399452\n",
            "Document: @repraulgrijalva @sominisengupta @tomsteyer @billmckibben @edbegleyjr @leodicaprio @schwarzenegger @dalailama @pontifex climate climatechange act on climate globalwarming we do not have time c o p21 environment auspol paris accord, Score: 0.24305385170710064\n",
            "Document: what be the party offer to combat climate change ? by @nicole_hasham https://t.co/mfy8lo3i3w aus votes aus votes2019 climate election, Score: 0.2428411630519112\n",
            "Document: federal election 2019 : labor to help council combat climate change australiavotes2019 https://t.co/3v8lrzogrn, Score: 0.23639452005752865\n",
            "Document: climate change to be decisive issue in australian election energy and global warming debate have dominate australia 's election campaign , with many voter call for change . auspol ausvotes aus votes19 auspol19 auspol2019 aus votes2019 australia australiavotes2019 https://t.co/zh50qlfnm7, Score: 0.23556983774379767\n",
            "Document: .@richaferguson on the importance of climate change in the federal election :   I think climate change have be a net positive for @australianlabor , despite the question around the cost .   more : https://t.co/gusaoalye1 aus votes2019 auspol https://t.co/6kcxceorr, Score: 0.23112500234194103\n",
            "Document: the guardian view on the australian election : vote on the climate emergency climate election auspol ausvote https://t.co/xulpjj1onb, Score: 0.22943424761961442\n",
            "Document: do your research and vote may 18 . this be the climate change election so there be more than just our own country hang in the balance . abc have this handy guide here : https://t.co/veyyx5t0hc ausvote auspol climate election aus votes2019 change politic climate action now, Score: 0.22938754464502034\n",
            "Document: @sbsnews perhaps voter of the sunshine state understand the sun 's role in climate well than the un ipcc and most of our politician . https://t.co/cvkoe3bynv ausvote aus votes2019 climate election qldpol auspol, Score: 0.22762960433526444\n",
            "Document: australian voter reject opposition s progressive agenda on climate , tax https://t.co/j7ypdzxjph, Score: 0.22496059988577935\n",
            "None\n"
          ]
        }
      ]
    },
    {
      "cell_type": "markdown",
      "source": [
        "The results here from what I see are mostly the same, the scores may be different and the orders might possibly be different, but the results showing up in the top 10 seem the same."
      ],
      "metadata": {
        "id": "zs32QJXLKbfL"
      }
    }
  ],
  "metadata": {
    "colab": {
      "provenance": [],
      "machine_shape": "hm",
      "gpuType": "T4"
    },
    "kernelspec": {
      "display_name": "Python 3",
      "name": "python3"
    },
    "language_info": {
      "name": "python"
    },
    "accelerator": "GPU"
  },
  "nbformat": 4,
  "nbformat_minor": 0
}